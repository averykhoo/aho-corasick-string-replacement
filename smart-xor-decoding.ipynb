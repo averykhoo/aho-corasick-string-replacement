{
 "cells": [
  {
   "cell_type": "code",
   "execution_count": 20,
   "metadata": {
    "ExecuteTime": {
     "end_time": "2021-03-08T15:31:59.406348Z",
     "start_time": "2021-03-08T15:31:59.395347Z"
    }
   },
   "outputs": [],
   "source": [
    "from pathlib import Path\n",
    "import itertools"
   ]
  },
  {
   "cell_type": "code",
   "execution_count": 4,
   "metadata": {
    "ExecuteTime": {
     "end_time": "2021-03-08T15:30:31.534097Z",
     "start_time": "2021-03-08T15:30:31.512099Z"
    }
   },
   "outputs": [
    {
     "data": {
      "text/plain": [
       "[WindowsPath('test/american-english-huge.big.txt'),\n",
       " WindowsPath('test/american-english-insane.big.txt'),\n",
       " WindowsPath('test/american-english-large.big.txt'),\n",
       " WindowsPath('test/american-english-small.big.txt'),\n",
       " WindowsPath('test/american-english.big.txt'),\n",
       " WindowsPath('test/british-english-huge.big.txt'),\n",
       " WindowsPath('test/british-english-insane.big.txt'),\n",
       " WindowsPath('test/british-english-large.big.txt'),\n",
       " WindowsPath('test/british-english-small.big.txt'),\n",
       " WindowsPath('test/british-english.big.txt'),\n",
       " WindowsPath('test/canadian-english-huge.big.txt'),\n",
       " WindowsPath('test/canadian-english-insane.big.txt'),\n",
       " WindowsPath('test/canadian-english-large.big.txt'),\n",
       " WindowsPath('test/canadian-english-small.big.txt'),\n",
       " WindowsPath('test/canadian-english.big.txt'),\n",
       " WindowsPath('test/words_en.txt'),\n",
       " WindowsPath('test/words_ms.txt')]"
      ]
     },
     "execution_count": 4,
     "metadata": {},
     "output_type": "execute_result"
    }
   ],
   "source": [
    "list(Path('test').glob('*.txt'))"
   ]
  },
  {
   "cell_type": "code",
   "execution_count": 5,
   "metadata": {
    "ExecuteTime": {
     "end_time": "2021-03-08T15:30:31.769697Z",
     "start_time": "2021-03-08T15:30:31.751700Z"
    }
   },
   "outputs": [
    {
     "data": {
      "text/plain": [
       "100"
      ]
     },
     "execution_count": 5,
     "metadata": {},
     "output_type": "execute_result"
    }
   ],
   "source": [
    "byteset = set(b'0123456789abcdefghijklmnopqrstuvwxyzABCDEFGHIJKLMNOPQRSTUVWXYZ!\"#$%&\\'()*+,-./:;<=>?@[\\\\]^_`{|}~ \\t\\n\\r\\v\\f')\n",
    "charset = set('0123456789abcdefghijklmnopqrstuvwxyzABCDEFGHIJKLMNOPQRSTUVWXYZ!\"#$%&\\'()*+,-./:;<=>?@[\\\\]^_`{|}~ \\t\\n\\r\\v\\f')\n",
    "len(charset)"
   ]
  },
  {
   "cell_type": "code",
   "execution_count": 6,
   "metadata": {
    "ExecuteTime": {
     "end_time": "2021-03-08T15:30:32.086980Z",
     "start_time": "2021-03-08T15:30:31.993981Z"
    }
   },
   "outputs": [
    {
     "data": {
      "text/plain": [
       "41431"
      ]
     },
     "execution_count": 6,
     "metadata": {},
     "output_type": "execute_result"
    }
   ],
   "source": [
    "words = set()\n",
    "with Path('test/words_en.txt').open() as f:\n",
    "    for line in f:\n",
    "        word = line.strip().lower()\n",
    "        if len(word) > 2 and set(word).issubset(charset):\n",
    "            words.add(line.strip().lower())\n",
    "len(words)"
   ]
  },
  {
   "cell_type": "code",
   "execution_count": 7,
   "metadata": {
    "ExecuteTime": {
     "end_time": "2021-03-08T15:30:32.418294Z",
     "start_time": "2021-03-08T15:30:32.399299Z"
    }
   },
   "outputs": [],
   "source": [
    "from find_replace import Trie"
   ]
  },
  {
   "cell_type": "code",
   "execution_count": 8,
   "metadata": {
    "ExecuteTime": {
     "end_time": "2021-03-08T15:30:33.097002Z",
     "start_time": "2021-03-08T15:30:32.845816Z"
    }
   },
   "outputs": [],
   "source": [
    "trie = Trie.fromkeys(words, case_sensitive=False)"
   ]
  },
  {
   "cell_type": "code",
   "execution_count": 9,
   "metadata": {
    "ExecuteTime": {
     "end_time": "2021-03-08T15:30:33.414996Z",
     "start_time": "2021-03-08T15:30:33.247871Z"
    }
   },
   "outputs": [
    {
     "data": {
      "text/plain": [
       "41431"
      ]
     },
     "execution_count": 9,
     "metadata": {},
     "output_type": "execute_result"
    }
   ],
   "source": [
    "len(trie)"
   ]
  },
  {
   "cell_type": "code",
   "execution_count": 10,
   "metadata": {
    "ExecuteTime": {
     "end_time": "2021-03-08T15:30:33.618333Z",
     "start_time": "2021-03-08T15:30:33.601309Z"
    }
   },
   "outputs": [
    {
     "data": {
      "text/plain": [
       "[<Match object; span=(0, 3), match='the'>,\n",
       " <Match object; span=(3, 8), match='quick'>,\n",
       " <Match object; span=(9, 15), match='browns'>,\n",
       " <Match object; span=(15, 20), match='foxes'>]"
      ]
     },
     "execution_count": 10,
     "metadata": {},
     "output_type": "execute_result"
    }
   ],
   "source": [
    "list(trie.find_iter('thequickfbrownsfoxes'))"
   ]
  },
  {
   "cell_type": "code",
   "execution_count": 9,
   "metadata": {
    "ExecuteTime": {
     "end_time": "2021-03-04T14:23:01.686769Z",
     "start_time": "2021-03-04T14:23:01.673774Z"
    }
   },
   "outputs": [
    {
     "data": {
      "text/plain": [
       "['the', 'quick', 'browns', 'foxes']"
      ]
     },
     "execution_count": 9,
     "metadata": {},
     "output_type": "execute_result"
    }
   ],
   "source": [
    "trie.findAll('thequickfbrownsfoxes')"
   ]
  },
  {
   "cell_type": "code",
   "execution_count": 10,
   "metadata": {
    "ExecuteTime": {
     "end_time": "2021-03-04T14:23:01.702769Z",
     "start_time": "2021-03-04T14:23:01.690771Z"
    }
   },
   "outputs": [
    {
     "data": {
      "text/plain": [
       "True"
      ]
     },
     "execution_count": 10,
     "metadata": {},
     "output_type": "execute_result"
    }
   ],
   "source": [
    "'rounds' in trie"
   ]
  },
  {
   "cell_type": "code",
   "execution_count": 11,
   "metadata": {
    "ExecuteTime": {
     "end_time": "2021-03-04T14:23:01.718763Z",
     "start_time": "2021-03-04T14:23:01.704763Z"
    }
   },
   "outputs": [
    {
     "data": {
      "text/plain": [
       "['together']"
      ]
     },
     "execution_count": 11,
     "metadata": {},
     "output_type": "execute_result"
    }
   ],
   "source": [
    "trie.find_longest('togethere')"
   ]
  },
  {
   "cell_type": "code",
   "execution_count": 12,
   "metadata": {
    "ExecuteTime": {
     "end_time": "2021-03-04T14:23:02.178770Z",
     "start_time": "2021-03-04T14:23:01.720763Z"
    }
   },
   "outputs": [],
   "source": [
    "for _ in range(1000):\n",
    "    trie.find_longest('Braised lamb shanks with rosemary and port wine sauce | braising cooking method')"
   ]
  },
  {
   "cell_type": "code",
   "execution_count": 13,
   "metadata": {
    "ExecuteTime": {
     "end_time": "2021-03-04T14:23:06.386981Z",
     "start_time": "2021-03-04T14:23:02.180766Z"
    }
   },
   "outputs": [],
   "source": [
    "for _ in range(1000):\n",
    "    sum(map(len, trie.findall('Braised lamb shanks with rosemary and port wine sauce | braising cooking method'*20)))"
   ]
  },
  {
   "cell_type": "code",
   "execution_count": 14,
   "metadata": {
    "ExecuteTime": {
     "end_time": "2021-03-04T14:23:10.937986Z",
     "start_time": "2021-03-04T14:23:06.388771Z"
    }
   },
   "outputs": [],
   "source": [
    "for _ in range(1000):\n",
    "    c = 0\n",
    "    for m in trie.finditer('Braised lamb shanks with rosemary and port wine sauce | braising cooking method'*20):\n",
    "        c += m.end() - m.start()"
   ]
  },
  {
   "cell_type": "code",
   "execution_count": 15,
   "metadata": {
    "ExecuteTime": {
     "end_time": "2021-03-04T14:23:10.953771Z",
     "start_time": "2021-03-04T14:23:10.939829Z"
    }
   },
   "outputs": [
    {
     "data": {
      "text/plain": [
       "6.666666666666667"
      ]
     },
     "execution_count": 15,
     "metadata": {},
     "output_type": "execute_result"
    }
   ],
   "source": [
    "400/60"
   ]
  },
  {
   "cell_type": "code",
   "execution_count": 9,
   "metadata": {
    "ExecuteTime": {
     "end_time": "2021-03-08T15:06:14.944303Z",
     "start_time": "2021-03-08T15:06:14.927305Z"
    }
   },
   "outputs": [
    {
     "data": {
      "text/plain": [
       "158"
      ]
     },
     "execution_count": 9,
     "metadata": {},
     "output_type": "execute_result"
    }
   ],
   "source": [
    "len('Braised lamb shanks with rosemary and port wine sauce | braising cooking method'*2)"
   ]
  },
  {
   "cell_type": "code",
   "execution_count": 11,
   "metadata": {
    "ExecuteTime": {
     "end_time": "2021-03-08T15:30:38.896258Z",
     "start_time": "2021-03-08T15:30:38.885265Z"
    }
   },
   "outputs": [],
   "source": [
    "def xor(text, key):\n",
    "    if isinstance(text, str):\n",
    "        text = text.encode('ascii')\n",
    "    if isinstance(key, str):\n",
    "        key = key.encode('latin1')\n",
    "    \n",
    "    text = bytearray(text)\n",
    "    \n",
    "    for i, char in enumerate(text):\n",
    "        text[i] = char ^ key[i % len(key)]\n",
    "    \n",
    "    return text"
   ]
  },
  {
   "cell_type": "code",
   "execution_count": 15,
   "metadata": {
    "ExecuteTime": {
     "end_time": "2021-03-08T15:06:27.108736Z",
     "start_time": "2021-03-08T15:06:27.103730Z"
    }
   },
   "outputs": [],
   "source": [
    "import itertools"
   ]
  },
  {
   "cell_type": "code",
   "execution_count": 17,
   "metadata": {
    "ExecuteTime": {
     "end_time": "2021-03-08T15:31:23.036937Z",
     "start_time": "2021-03-08T15:31:23.017938Z"
    }
   },
   "outputs": [],
   "source": [
    "def xor_detect(text, key_length, charset=byteset):\n",
    "    out = [set(range(256)) for _ in range(key_length)]\n",
    "    for i, char_1 in enumerate(text):\n",
    "        possible = set()\n",
    "        for char_2 in charset:\n",
    "            possible.add(char_1 ^ char_2)\n",
    "        out[i % key_length].intersection_update(possible)\n",
    "    return list(itertools.product(*out))\n",
    "    return [[bytes([key]).decode('latin1') for key in possible_keys] for possible_keys in out]"
   ]
  },
  {
   "cell_type": "code",
   "execution_count": 18,
   "metadata": {
    "ExecuteTime": {
     "end_time": "2021-03-08T15:31:23.914895Z",
     "start_time": "2021-03-08T15:31:23.908889Z"
    }
   },
   "outputs": [
    {
     "data": {
      "text/plain": [
       "388"
      ]
     },
     "execution_count": 18,
     "metadata": {},
     "output_type": "execute_result"
    }
   ],
   "source": [
    "encoded = xor('The multi-armed bandit setting is the cleanest paradigm to capture the tension between exploring information about the underlying system and exploiting the most profitable actions based on the current information. A decision-maker (or learner ) repeatedly selects among a set of k actions also referred to as arms, earns the reward of the selected arm, and obtains feedback only about it.', 'TEST')\n",
    "len(encoded)"
   ]
  },
  {
   "cell_type": "code",
   "execution_count": 21,
   "metadata": {
    "ExecuteTime": {
     "end_time": "2021-03-04T14:23:11.128762Z",
     "start_time": "2021-03-04T14:23:11.036765Z"
    }
   },
   "outputs": [
    {
     "data": {
      "text/plain": [
       "638894"
      ]
     },
     "execution_count": 21,
     "metadata": {},
     "output_type": "execute_result"
    }
   ],
   "source": [
    "keys = xor_detect(encoded, 4)\n",
    "len(keys)"
   ]
  },
  {
   "cell_type": "code",
   "execution_count": 22,
   "metadata": {
    "ExecuteTime": {
     "end_time": "2021-03-04T14:23:12.227976Z",
     "start_time": "2021-03-04T14:23:11.130764Z"
    }
   },
   "outputs": [],
   "source": [
    "test_str = encoded[:65]\n",
    "results = []\n",
    "for key in keys[:10000]:\n",
    "    decoded = xor(test_str, key).decode('ascii')\n",
    "    score = sum(map(len, trie.findall(decoded)))\n",
    "    results.append(score)"
   ]
  },
  {
   "cell_type": "markdown",
   "metadata": {},
   "source": [
    "* tweaking the numbers\n",
    "* 65 chars allows processing at a rate of about 10k per second\n",
    "* meaning that 600k takes about 1 min, or 2.5 m is about 4 mins"
   ]
  },
  {
   "cell_type": "code",
   "execution_count": 23,
   "metadata": {
    "ExecuteTime": {
     "end_time": "2021-03-04T14:23:12.243993Z",
     "start_time": "2021-03-04T14:23:12.232990Z"
    }
   },
   "outputs": [],
   "source": [
    "# test_str = encoded[:65]\n",
    "# results = []\n",
    "# for key in keys:\n",
    "#     decoded = xor(test_str, key).decode('ascii')\n",
    "#     score = sum(map(len, trie.findall(decoded)))\n",
    "#     results.append(score)"
   ]
  },
  {
   "cell_type": "code",
   "execution_count": 24,
   "metadata": {
    "ExecuteTime": {
     "end_time": "2021-03-04T14:23:12.275012Z",
     "start_time": "2021-03-04T14:23:12.247990Z"
    }
   },
   "outputs": [
    {
     "data": {
      "text/plain": [
       "[(9,\n",
       "  'A\\tRW',\n",
       "  bytearray(b'A$d#x9mw|a`qx)e#w-og|8!pp8uj{+!jflukplbop-off8!st>`g|+l#a#!`t<uvg')),\n",
       " (7,\n",
       "  'A\\n\\x7fT',\n",
       "  bytearray(b\"A\\'I x:@t|bMrx*H w.Bd|;\\x0csp;Xi{(\\x0cifoXhpoOlp.Bef;\\x0cpt=Md|(A a \\x0cct?Xug\")),\n",
       " (7,\n",
       "  'A\\nRP',\n",
       "  bytearray(b\"A\\'d$x:mp|b`vx*e$w.o`|;!wp;um{(!mfoulpobhp.oaf;!tt=``|(l$a !gt?uqg\")),\n",
       " (7,\n",
       "  'A\\nFQ',\n",
       "  bytearray(b\"A\\'p%x:yq|btwx*q%w.{a|;5vp;al{(5lfoampovip.{`f;5ut=ta|(x%a 5ft?apg\")),\n",
       " (7,\n",
       "  'A\\tQU',\n",
       "  bytearray(b'A$g!x9nu|acsx)f!w-le|8\"rp8vh{+\"hflviplamp-ldf8\"qt>ce|+o!a#\"bt<vtg')),\n",
       " (7,\n",
       "  'A\\tFQ',\n",
       "  bytearray(b'A$p%x9yq|atwx)q%w-{a|85vp8al{+5lflamplvip-{`f85ut>ta|+x%a#5ft<apg')),\n",
       " (7,\n",
       "  'A\\x06QU',\n",
       "  bytearray(b'A+g!x6nu|ncsx&f!w\"le|7\"rp7vh{$\"hfcvipcamp\"ldf7\"qt1ce|$o!a,\"bt3vtg')),\n",
       " (7,\n",
       "  'A\\x06FQ',\n",
       "  bytearray(b'A+p%x6yq|ntwx&q%w\"{a|75vp7al{$5lfcampcvip\"{`f75ut1ta|$x%a,5ft3apg')),\n",
       " (7,\n",
       "  'A\\x04S]',\n",
       "  bytearray(b'A)e)x4l}|la{x$d)w nm|5 zp5t`{& `fatapacep nlf5 yt3am|&m)a. jt1t|g')),\n",
       " (7,\n",
       "  'A\\x04SS',\n",
       "  bytearray(b\"A)e\\'x4ls|laux$d\\'w nc|5 tp5tn{& nfatopackp nbf5 wt3ac|&m\\'a. dt1trg\"))]"
      ]
     },
     "execution_count": 24,
     "metadata": {},
     "output_type": "execute_result"
    }
   ],
   "source": [
    "out = sorted(zip(results, keys), reverse=True)\n",
    "[(x, bytes(y).decode('latin1'), xor(test_str, y)) for x,y in out[:10]]"
   ]
  },
  {
   "cell_type": "code",
   "execution_count": null,
   "metadata": {},
   "outputs": [],
   "source": []
  },
  {
   "cell_type": "code",
   "execution_count": 25,
   "metadata": {
    "ExecuteTime": {
     "end_time": "2021-03-04T14:23:12.289993Z",
     "start_time": "2021-03-04T14:23:12.276986Z"
    }
   },
   "outputs": [
    {
     "data": {
      "text/plain": [
       "249"
      ]
     },
     "execution_count": 25,
     "metadata": {},
     "output_type": "execute_result"
    }
   ],
   "source": [
    "encoded = xor('Learn to braised lamb shanks the easy way and serve them with a delicious rosemary and port wine sauce. in tis video we will explain what is the braising cooking method and how to use this cooking technique at home to make lots of delicious recipes.', 'TEST')\n",
    "len(encoded)"
   ]
  },
  {
   "cell_type": "code",
   "execution_count": 26,
   "metadata": {
    "ExecuteTime": {
     "end_time": "2021-03-04T14:23:12.496986Z",
     "start_time": "2021-03-04T14:23:12.290990Z"
    }
   },
   "outputs": [
    {
     "data": {
      "text/plain": [
       "1988028"
      ]
     },
     "execution_count": 26,
     "metadata": {},
     "output_type": "execute_result"
    }
   ],
   "source": [
    "keys = xor_detect(encoded, 4)\n",
    "len(keys)"
   ]
  },
  {
   "cell_type": "code",
   "execution_count": null,
   "metadata": {},
   "outputs": [],
   "source": []
  },
  {
   "cell_type": "code",
   "execution_count": 27,
   "metadata": {
    "ExecuteTime": {
     "end_time": "2021-03-04T14:23:12.512995Z",
     "start_time": "2021-03-04T14:23:12.498985Z"
    }
   },
   "outputs": [
    {
     "data": {
      "text/plain": [
       "79"
      ]
     },
     "execution_count": 27,
     "metadata": {},
     "output_type": "execute_result"
    }
   ],
   "source": [
    "encoded = xor('Braised lamb shanks with rosemary and port wine sauce | braising cooking method', 'TEST')\n",
    "len(encoded)"
   ]
  },
  {
   "cell_type": "code",
   "execution_count": 28,
   "metadata": {
    "ExecuteTime": {
     "end_time": "2021-03-04T14:23:13.070988Z",
     "start_time": "2021-03-04T14:23:12.514987Z"
    }
   },
   "outputs": [
    {
     "data": {
      "text/plain": [
       "5362560"
      ]
     },
     "execution_count": 28,
     "metadata": {},
     "output_type": "execute_result"
    }
   ],
   "source": [
    "keys = xor_detect(encoded, 4)\n",
    "len(keys)"
   ]
  },
  {
   "cell_type": "markdown",
   "metadata": {},
   "source": [
    "not too bad, 5m keys should take about 10 mins to brute-force"
   ]
  },
  {
   "cell_type": "code",
   "execution_count": 29,
   "metadata": {
    "ExecuteTime": {
     "end_time": "2021-03-04T14:23:13.183007Z",
     "start_time": "2021-03-04T14:23:13.072989Z"
    }
   },
   "outputs": [
    {
     "data": {
      "text/plain": [
       "2975323"
      ]
     },
     "execution_count": 29,
     "metadata": {},
     "output_type": "execute_result"
    }
   ],
   "source": [
    "keys.index(tuple('TEST'.encode('latin1')))"
   ]
  },
  {
   "cell_type": "code",
   "execution_count": 30,
   "metadata": {
    "ExecuteTime": {
     "end_time": "2021-03-04T14:23:20.457997Z",
     "start_time": "2021-03-04T14:23:13.184986Z"
    },
    "scrolled": true
   },
   "outputs": [
    {
     "name": "stdout",
     "output_type": "stream",
     "text": [
      "[3000000/5362560] best key so far: TEST (47/65)\n"
     ]
    }
   ],
   "source": [
    "test_str = encoded[:65]\n",
    "results = [0] * len(keys)\n",
    "for i, key in list(enumerate(keys))[2950000:3000000]:\n",
    "    decoded = xor(test_str, key).decode('ascii')\n",
    "    score = sum(map(len, trie.findall(decoded)))\n",
    "    results[i] = score\n",
    "    if (i + 1) % 100000 == 0:\n",
    "        score, key = sorted(zip(results, keys), reverse=True)[0]\n",
    "        print(f'[{i + 1}/{len(keys)}] best key so far: {bytes(key).decode(\"latin1\")} ({score}/{len(test_str)})')"
   ]
  },
  {
   "cell_type": "code",
   "execution_count": 48,
   "metadata": {
    "ExecuteTime": {
     "end_time": "2021-03-04T14:29:33.297680Z",
     "start_time": "2021-03-04T14:29:32.279672Z"
    }
   },
   "outputs": [
    {
     "data": {
      "text/plain": [
       "[(47,\n",
       "  'TEST',\n",
       "  bytearray(b'Braised lamb shanks with rosemary and port wine sauce | braising ')),\n",
       " (29,\n",
       "  'TESS',\n",
       "  bytearray(b\"Bransed\\'lame shfnks\\'wito rotemauy aid phrt pine\\'saude |\\'bransin` \")),\n",
       " (25,\n",
       "  'TESP',\n",
       "  bytearray(b'Bramsed$lamf shenks$witl rowemavy ajd pkrt sine$sauge |$bramsinc ')),\n",
       " (22,\n",
       "  'TESZ',\n",
       "  bytearray(b'Bragsed.laml shonks.witf ro}ema|y a`d part yine.saume |.bragsini ')),\n",
       " (22,\n",
       "  'TESU',\n",
       "  bytearray(b'Brahsed!lamc sh`nks!witi roremasy aod pnrt vine!saube |!brahsinf ')),\n",
       " (22,\n",
       "  'TEET',\n",
       "  bytearray(b'Brwiser la{b s~anke wibh rysemwry wnd fort6wins sacce j brwisixg ')),\n",
       " (20,\n",
       "  'TESO',\n",
       "  bytearray(b'Brarsed;lamy shznks;wits rohemaiy aud ptrt line;sauxe |;brarsin| ')),\n",
       " (20,\n",
       "  'TES@',\n",
       "  bytearray(b'Bra}sed4lamv shunks4wit| rogemafy azd p{rt cine4sauwe |4bra}sins ')),\n",
       " (20,\n",
       "  'T@SS',\n",
       "  bytearray(b\"Bwans`d\\'ldme vhfnns\\'wlto wotehauy%aid%phrq pike\\'sdude%|\\'bwansln` \")),\n",
       " (19,\n",
       "  'TES~',\n",
       "  bytearray(b'BraCsed\\nlamH shKnks\\nwitB roYemaXy aDd pErt ]ine\\nsauIe |\\nbraCsinM '))]"
      ]
     },
     "execution_count": 48,
     "metadata": {},
     "output_type": "execute_result"
    }
   ],
   "source": [
    "out = sorted(zip(results, keys), reverse=True)\n",
    "out2 = [(x, bytes(y).decode('latin1'), xor(test_str, y)) for x,y in out[:100]]\n",
    "out2[:10]"
   ]
  },
  {
   "cell_type": "code",
   "execution_count": 31,
   "metadata": {
    "ExecuteTime": {
     "end_time": "2021-03-04T14:23:20.473986Z",
     "start_time": "2021-03-04T14:23:20.458988Z"
    }
   },
   "outputs": [],
   "source": [
    "def test(key):\n",
    "    decoded = xor(test_str, key).decode('ascii')\n",
    "    return sum(map(len, trie.findall(decoded)))"
   ]
  },
  {
   "cell_type": "code",
   "execution_count": 37,
   "metadata": {
    "ExecuteTime": {
     "end_time": "2021-03-04T14:23:58.573798Z",
     "start_time": "2021-03-04T14:23:58.562809Z"
    }
   },
   "outputs": [],
   "source": [
    "keys2 = keys[2900000:3000000]"
   ]
  },
  {
   "cell_type": "code",
   "execution_count": 38,
   "metadata": {
    "ExecuteTime": {
     "end_time": "2021-03-04T14:24:12.127819Z",
     "start_time": "2021-03-04T14:24:02.156711Z"
    }
   },
   "outputs": [],
   "source": [
    "res2 = list(map(test, keys2))"
   ]
  },
  {
   "cell_type": "code",
   "execution_count": 35,
   "metadata": {
    "ExecuteTime": {
     "end_time": "2021-03-04T14:23:31.591080Z",
     "start_time": "2021-03-04T14:23:31.575066Z"
    }
   },
   "outputs": [],
   "source": [
    "from multiprocessing.pool import ThreadPool"
   ]
  },
  {
   "cell_type": "code",
   "execution_count": 39,
   "metadata": {
    "ExecuteTime": {
     "end_time": "2021-03-04T14:24:22.001330Z",
     "start_time": "2021-03-04T14:24:12.129705Z"
    }
   },
   "outputs": [],
   "source": [
    "pool = ThreadPool(10)\n",
    "res3 = pool.map(test, keys2)"
   ]
  },
  {
   "cell_type": "code",
   "execution_count": 50,
   "metadata": {
    "ExecuteTime": {
     "end_time": "2021-03-04T14:30:32.393731Z",
     "start_time": "2021-03-04T14:30:32.385736Z"
    }
   },
   "outputs": [
    {
     "data": {
      "text/plain": [
       "True"
      ]
     },
     "execution_count": 50,
     "metadata": {},
     "output_type": "execute_result"
    }
   ],
   "source": [
    "res2==res3"
   ]
  },
  {
   "cell_type": "code",
   "execution_count": 45,
   "metadata": {
    "ExecuteTime": {
     "end_time": "2021-03-04T14:28:45.652051Z",
     "start_time": "2021-03-04T14:28:45.641054Z"
    }
   },
   "outputs": [],
   "source": [
    "text_chars = set(b'abcdefghijklmnopqrstuvwxyzABCDEFGHIJKLMNOPQRSTUVWXYZ')\n",
    "def num_chars(text):\n",
    "    count = 0\n",
    "    for char in text:\n",
    "        if char in text_chars:\n",
    "            count += 1\n",
    "    return count"
   ]
  },
  {
   "cell_type": "code",
   "execution_count": 57,
   "metadata": {
    "ExecuteTime": {
     "end_time": "2021-03-04T14:34:00.118932Z",
     "start_time": "2021-03-04T14:33:58.444942Z"
    }
   },
   "outputs": [],
   "source": [
    "counts = [num_chars(xor(test_str, key)) for key in keys2]"
   ]
  },
  {
   "cell_type": "code",
   "execution_count": 58,
   "metadata": {
    "ExecuteTime": {
     "end_time": "2021-03-04T14:34:00.510218Z",
     "start_time": "2021-03-04T14:34:00.498223Z"
    }
   },
   "outputs": [
    {
     "data": {
      "text/plain": [
       "54"
      ]
     },
     "execution_count": 58,
     "metadata": {},
     "output_type": "execute_result"
    }
   ],
   "source": [
    "max(counts)"
   ]
  },
  {
   "cell_type": "code",
   "execution_count": 59,
   "metadata": {
    "ExecuteTime": {
     "end_time": "2021-03-04T14:34:03.706289Z",
     "start_time": "2021-03-04T14:34:03.636296Z"
    }
   },
   "outputs": [
    {
     "data": {
      "text/plain": [
       "[(47,\n",
       "  53,\n",
       "  'TEST',\n",
       "  bytearray(b'Braised lamb shanks with rosemary and port wine sauce | braising ')),\n",
       " (29,\n",
       "  52,\n",
       "  'TESS',\n",
       "  bytearray(b\"Bransed\\'lame shfnks\\'wito rotemauy aid phrt pine\\'saude |\\'bransin` \")),\n",
       " (25,\n",
       "  53,\n",
       "  'TESP',\n",
       "  bytearray(b'Bramsed$lamf shenks$witl rowemavy ajd pkrt sine$sauge |$bramsinc ')),\n",
       " (22,\n",
       "  50,\n",
       "  'TESZ',\n",
       "  bytearray(b'Bragsed.laml shonks.witf ro}ema|y a`d part yine.saume |.bragsini ')),\n",
       " (22,\n",
       "  52,\n",
       "  'TESU',\n",
       "  bytearray(b'Brahsed!lamc sh`nks!witi roremasy aod pnrt vine!saube |!brahsinf ')),\n",
       " (22,\n",
       "  52,\n",
       "  'TEET',\n",
       "  bytearray(b'Brwiser la{b s~anke wibh rysemwry wnd fort6wins sacce j brwisixg ')),\n",
       " (20,\n",
       "  52,\n",
       "  'TESO',\n",
       "  bytearray(b'Brarsed;lamy shznks;wits rohemaiy aud ptrt line;sauxe |;brarsin| ')),\n",
       " (20,\n",
       "  49,\n",
       "  'TES@',\n",
       "  bytearray(b'Bra}sed4lamv shunks4wit| rogemafy azd p{rt cine4sauwe |4bra}sins ')),\n",
       " (20,\n",
       "  51,\n",
       "  'T@SS',\n",
       "  bytearray(b\"Bwans`d\\'ldme vhfnns\\'wlto wotehauy%aid%phrq pike\\'sdude%|\\'bwansln` \")),\n",
       " (19,\n",
       "  52,\n",
       "  'TES~',\n",
       "  bytearray(b'BraCsed\\nlamH shKnks\\nwitB roYemaXy aDd pErt ]ine\\nsauIe |\\nbraCsinM '))]"
      ]
     },
     "execution_count": 59,
     "metadata": {},
     "output_type": "execute_result"
    }
   ],
   "source": [
    "out = sorted(zip(res2, keys2,counts), reverse=True)\n",
    "out2 = [(x, z, bytes(y).decode('latin1'), xor(test_str, y)) for x,y,z in out[:100]]\n",
    "out2[:10]"
   ]
  },
  {
   "cell_type": "code",
   "execution_count": 60,
   "metadata": {
    "ExecuteTime": {
     "end_time": "2021-03-04T14:34:08.156456Z",
     "start_time": "2021-03-04T14:34:08.151450Z"
    }
   },
   "outputs": [
    {
     "data": {
      "text/plain": [
       "65"
      ]
     },
     "execution_count": 60,
     "metadata": {},
     "output_type": "execute_result"
    }
   ],
   "source": [
    "len(test_str)"
   ]
  },
  {
   "cell_type": "code",
   "execution_count": 61,
   "metadata": {
    "ExecuteTime": {
     "end_time": "2021-03-04T14:34:08.564544Z",
     "start_time": "2021-03-04T14:34:08.552537Z"
    }
   },
   "outputs": [],
   "source": [
    "from collections import Counter"
   ]
  },
  {
   "cell_type": "code",
   "execution_count": 62,
   "metadata": {
    "ExecuteTime": {
     "end_time": "2021-03-04T14:34:09.081017Z",
     "start_time": "2021-03-04T14:34:09.064011Z"
    }
   },
   "outputs": [
    {
     "data": {
      "text/plain": [
       "[(14, 100),\n",
       " (15, 520),\n",
       " (17, 350),\n",
       " (18, 2340),\n",
       " (19, 2704),\n",
       " (21, 1865),\n",
       " (22, 9848),\n",
       " (23, 885),\n",
       " (24, 756),\n",
       " (25, 1426),\n",
       " (26, 4358),\n",
       " (27, 4394),\n",
       " (28, 3849),\n",
       " (29, 4210),\n",
       " (30, 4355),\n",
       " (31, 5192),\n",
       " (32, 6458),\n",
       " (33, 2901),\n",
       " (34, 4127),\n",
       " (35, 4183),\n",
       " (36, 3245),\n",
       " (37, 3132),\n",
       " (38, 3871),\n",
       " (39, 4506),\n",
       " (40, 3221),\n",
       " (41, 2791),\n",
       " (42, 2394),\n",
       " (43, 2199),\n",
       " (44, 1943),\n",
       " (45, 1459),\n",
       " (46, 966),\n",
       " (47, 942),\n",
       " (48, 1084),\n",
       " (49, 1048),\n",
       " (50, 920),\n",
       " (51, 768),\n",
       " (52, 490),\n",
       " (53, 176),\n",
       " (54, 24)]"
      ]
     },
     "execution_count": 62,
     "metadata": {},
     "output_type": "execute_result"
    }
   ],
   "source": [
    "sorted(Counter(counts).most_common())"
   ]
  },
  {
   "cell_type": "code",
   "execution_count": 66,
   "metadata": {
    "ExecuteTime": {
     "end_time": "2021-03-04T14:37:18.434126Z",
     "start_time": "2021-03-04T14:37:18.423157Z"
    }
   },
   "outputs": [
    {
     "data": {
      "text/plain": [
       "False"
      ]
     },
     "execution_count": 66,
     "metadata": {},
     "output_type": "execute_result"
    }
   ],
   "source": [
    "b'0' == 48"
   ]
  },
  {
   "cell_type": "code",
   "execution_count": 12,
   "metadata": {
    "ExecuteTime": {
     "end_time": "2021-03-08T15:30:49.641776Z",
     "start_time": "2021-03-08T15:30:49.619771Z"
    }
   },
   "outputs": [],
   "source": [
    "weighted_chars = {\n",
    "     b'\\t'[0]: 0,\n",
    "     b'\\n'[0]: 0,\n",
    "     b'\\x0b'[0]: 0,\n",
    "     b'\\x0c'[0]: 0,\n",
    "     b'\\r'[0]: 0,\n",
    "     b' '[0]: 1,\n",
    "     b'!'[0]: 0,\n",
    "     b'\"'[0]: 0,\n",
    "     b'#'[0]: 0,\n",
    "     b'$'[0]: 0,\n",
    "     b'%'[0]: 0,\n",
    "     b'&'[0]: 0,\n",
    "     b\"'\"[0]: 0,\n",
    "     b'('[0]: 0,\n",
    "     b')'[0]: 0,\n",
    "     b'*'[0]: 0,\n",
    "     b'+'[0]: 0,\n",
    "     b','[0]: 0,\n",
    "     b'-'[0]: 0,\n",
    "     b'.'[0]: 0,\n",
    "     b'/'[0]: 0,\n",
    "     b'0'[0]: 0,\n",
    "     b'1'[0]: 0,\n",
    "     b'2'[0]: 0,\n",
    "     b'3'[0]: 0,\n",
    "     b'4'[0]: 0,\n",
    "     b'5'[0]: 0,\n",
    "     b'6'[0]: 0,\n",
    "     b'7'[0]: 0,\n",
    "     b'8'[0]: 0,\n",
    "     b'9'[0]: 0,\n",
    "     b':'[0]: 0,\n",
    "     b';'[0]: 0,\n",
    "     b'<'[0]: 0,\n",
    "     b'='[0]: 0,\n",
    "     b'>'[0]: 0,\n",
    "     b'?'[0]: 0,\n",
    "     b'@'[0]: 0,\n",
    "     b'A'[0]: 1,\n",
    "     b'B'[0]: 1,\n",
    "     b'C'[0]: 1,\n",
    "     b'D'[0]: 1,\n",
    "     b'E'[0]: 1,\n",
    "     b'F'[0]: 1,\n",
    "     b'G'[0]: 1,\n",
    "     b'H'[0]: 1,\n",
    "     b'I'[0]: 1,\n",
    "     b'J'[0]: 1,\n",
    "     b'K'[0]: 1,\n",
    "     b'L'[0]: 1,\n",
    "     b'M'[0]: 1,\n",
    "     b'N'[0]: 1,\n",
    "     b'O'[0]: 1,\n",
    "     b'P'[0]: 1,\n",
    "     b'Q'[0]: 1,\n",
    "     b'R'[0]: 1,\n",
    "     b'S'[0]: 1,\n",
    "     b'T'[0]: 1,\n",
    "     b'U'[0]: 1,\n",
    "     b'V'[0]: 1,\n",
    "     b'W'[0]: 1,\n",
    "     b'X'[0]: 1,\n",
    "     b'Y'[0]: 1,\n",
    "     b'Z'[0]: 1,\n",
    "     b'['[0]: 0,\n",
    "     b'\\\\'[0]: 0,\n",
    "     b']'[0]: 0,\n",
    "     b'^'[0]: 0,\n",
    "     b'_'[0]: 0,\n",
    "     b'`'[0]: 0,\n",
    "     b'a'[0]: 1,\n",
    "     b'b'[0]: 1,\n",
    "     b'c'[0]: 1,\n",
    "     b'd'[0]: 1,\n",
    "     b'e'[0]: 1,\n",
    "     b'f'[0]: 1,\n",
    "     b'g'[0]: 1,\n",
    "     b'h'[0]: 1,\n",
    "     b'i'[0]: 1,\n",
    "     b'j'[0]: 1,\n",
    "     b'k'[0]: 1,\n",
    "     b'l'[0]: 1,\n",
    "     b'm'[0]: 1,\n",
    "     b'n'[0]: 1,\n",
    "     b'o'[0]: 1,\n",
    "     b'p'[0]: 1,\n",
    "     b'q'[0]: 1,\n",
    "     b'r'[0]: 1,\n",
    "     b's'[0]: 1,\n",
    "     b't'[0]: 1,\n",
    "     b'u'[0]: 1,\n",
    "     b'v'[0]: 1,\n",
    "     b'w'[0]: 1,\n",
    "     b'x'[0]: 1,\n",
    "     b'y'[0]: 1,\n",
    "     b'z'[0]: 1,\n",
    "     b'{'[0]: 0,\n",
    "     b'|'[0]: 0,\n",
    "     b'}'[0]: 0,\n",
    "     b'~'[0]: 0,\n",
    "                 }"
   ]
  },
  {
   "cell_type": "code",
   "execution_count": 27,
   "metadata": {
    "ExecuteTime": {
     "end_time": "2021-03-08T15:33:06.654205Z",
     "start_time": "2021-03-08T15:33:06.646240Z"
    }
   },
   "outputs": [],
   "source": [
    "def xor_detect_2(text, key_length, weighted_charset=weighted_chars):\n",
    "    out = [dict.fromkeys(range(256), 0) for _ in range(key_length)]\n",
    "    for i, char_1 in enumerate(text):\n",
    "        new = {}\n",
    "        for char, score in out[i % key_length].items():\n",
    "            if char_1 ^ char in weighted_charset:\n",
    "                new[char] = score + weighted_charset[char_1 ^ char]\n",
    "        out[i % key_length] = new\n",
    "        \n",
    "    possible = [(0, [])]\n",
    "    for idx_key in out:\n",
    "        print('!')\n",
    "        new = []\n",
    "        for key, score in idx_key.items():\n",
    "            for e_score, e_key in possible:\n",
    "                new.append((e_score + score, e_key + [key]))\n",
    "        possible.clear()\n",
    "        possible = new\n",
    "        print('!!')\n",
    "    return sorted(possible, reverse=True, key=lambda x: x[0])\n"
   ]
  },
  {
   "cell_type": "code",
   "execution_count": 89,
   "metadata": {
    "ExecuteTime": {
     "end_time": "2021-03-04T14:53:26.704203Z",
     "start_time": "2021-03-04T14:52:53.526030Z"
    }
   },
   "outputs": [
    {
     "name": "stdout",
     "output_type": "stream",
     "text": [
      "!\n",
      "!\n",
      "!\n",
      "!\n"
     ]
    }
   ],
   "source": [
    "results = xor_detect_2(encoded, 4)"
   ]
  },
  {
   "cell_type": "code",
   "execution_count": 90,
   "metadata": {
    "ExecuteTime": {
     "end_time": "2021-03-04T14:53:26.720023Z",
     "start_time": "2021-03-04T14:53:26.706024Z"
    }
   },
   "outputs": [
    {
     "data": {
      "text/plain": [
       "5362560"
      ]
     },
     "execution_count": 90,
     "metadata": {},
     "output_type": "execute_result"
    }
   ],
   "source": [
    "len(results)"
   ]
  },
  {
   "cell_type": "code",
   "execution_count": 94,
   "metadata": {
    "ExecuteTime": {
     "end_time": "2021-03-04T14:54:11.522335Z",
     "start_time": "2021-03-04T14:54:11.500351Z"
    }
   },
   "outputs": [],
   "source": [
    "keys3 = set(bytes(key).decode('latin1') for score, key in results[:10000])"
   ]
  },
  {
   "cell_type": "code",
   "execution_count": 95,
   "metadata": {
    "ExecuteTime": {
     "end_time": "2021-03-04T14:54:17.591987Z",
     "start_time": "2021-03-04T14:54:17.569969Z"
    }
   },
   "outputs": [
    {
     "data": {
      "text/plain": [
       "True"
      ]
     },
     "execution_count": 95,
     "metadata": {},
     "output_type": "execute_result"
    }
   ],
   "source": [
    "'TEST' in keys3"
   ]
  },
  {
   "cell_type": "code",
   "execution_count": 66,
   "metadata": {
    "ExecuteTime": {
     "end_time": "2021-03-08T15:14:18.438928Z",
     "start_time": "2021-03-08T15:14:18.430935Z"
    }
   },
   "outputs": [],
   "source": [
    "plaintext = '''\n",
    "Windows IP Configuration\n",
    "\n",
    "\n",
    "Wireless LAN adapter Local Area Connection* 3:\n",
    "\n",
    "   Media State . . . . . . . . . . . : Media disconnected\n",
    "   Connection-specific DNS Suffix  . : \n",
    "\n",
    "Wireless LAN adapter Local Area Connection* 4:\n",
    "\n",
    "   Media State . . . . . . . . . . . : Media disconnected\n",
    "   Connection-specific DNS Suffix  . : \n",
    "\n",
    "Wireless LAN adapter Wi-Fi:\n",
    "\n",
    "   Connection-specific DNS Suffix  . : lan\n",
    "   Link-local IPv6 Address . . . . . : fe80::acf3:5c56:a7f8:e2bd%2\n",
    "   IPv4 Address. . . . . . . . . . . : 192.168.1.144\n",
    "   Subnet Mask . . . . . . . . . . . : 255.255.255.0\n",
    "   Default Gateway . . . . . . . . . : 192.168.1.1\n",
    "\n",
    "Tunnel adapter Teredo Tunneling Pseudo-Interface:\n",
    "\n",
    "   Connection-specific DNS Suffix  . : \n",
    "   IPv6 Address. . . . . . . . . . . : 2001:0:2851:fcb0:2480:ca0:357a:3deb\n",
    "   Link-local IPv6 Address . . . . . : fe80::2480:ca0:357a:3deb%16\n",
    "   Default Gateway . . . . . . . . . : ::\n",
    "\n",
    "'''[600:]"
   ]
  },
  {
   "cell_type": "code",
   "execution_count": 67,
   "metadata": {
    "ExecuteTime": {
     "end_time": "2021-03-08T15:14:18.658599Z",
     "start_time": "2021-03-08T15:14:18.649594Z"
    }
   },
   "outputs": [],
   "source": [
    "encoded = xor(plaintext, 'hello')"
   ]
  },
  {
   "cell_type": "code",
   "execution_count": 68,
   "metadata": {
    "ExecuteTime": {
     "end_time": "2021-03-08T15:14:18.863052Z",
     "start_time": "2021-03-08T15:14:18.800056Z"
    }
   },
   "outputs": [
    {
     "name": "stdout",
     "output_type": "stream",
     "text": [
      "!\n",
      "!\n",
      "!\n",
      "!\n",
      "!\n"
     ]
    }
   ],
   "source": [
    "results = xor_detect_2(encoded, 5)"
   ]
  },
  {
   "cell_type": "code",
   "execution_count": 69,
   "metadata": {
    "ExecuteTime": {
     "end_time": "2021-03-08T15:14:18.958982Z",
     "start_time": "2021-03-08T15:14:18.950984Z"
    }
   },
   "outputs": [
    {
     "data": {
      "text/plain": [
       "['he5lo',\n",
       " 'hello',\n",
       " 'he4lo',\n",
       " 'he6lo',\n",
       " 'he5ll',\n",
       " 'helll',\n",
       " 'he4ll',\n",
       " 'he5lh',\n",
       " 'hellh',\n",
       " 'he4lh']"
      ]
     },
     "execution_count": 69,
     "metadata": {},
     "output_type": "execute_result"
    }
   ],
   "source": [
    "[bytes(key).decode('latin1') for score, key in results[:10]]"
   ]
  },
  {
   "cell_type": "code",
   "execution_count": 70,
   "metadata": {
    "ExecuteTime": {
     "end_time": "2021-03-08T15:14:19.131354Z",
     "start_time": "2021-03-08T15:14:19.112391Z"
    }
   },
   "outputs": [
    {
     "data": {
      "text/plain": [
       "22400"
      ]
     },
     "execution_count": 70,
     "metadata": {},
     "output_type": "execute_result"
    }
   ],
   "source": [
    "len(results)"
   ]
  },
  {
   "cell_type": "code",
   "execution_count": 79,
   "metadata": {
    "ExecuteTime": {
     "end_time": "2021-03-08T15:15:57.601175Z",
     "start_time": "2021-03-08T15:15:57.483193Z"
    },
    "scrolled": true
   },
   "outputs": [
    {
     "data": {
      "text/plain": [
       "[(189, [104, 101, 53, 108, 111]),\n",
       " (189, [104, 101, 108, 108, 111]),\n",
       " (188, [104, 101, 52, 108, 111]),\n",
       " (185, [104, 101, 54, 108, 111]),\n",
       " (182, [104, 101, 53, 108, 108]),\n",
       " (182, [104, 101, 108, 108, 108]),\n",
       " (181, [104, 101, 52, 108, 108]),\n",
       " (180, [104, 101, 53, 108, 104]),\n",
       " (180, [104, 101, 108, 108, 104]),\n",
       " (179, [104, 101, 52, 108, 104]),\n",
       " (179, [104, 101, 53, 108, 110]),\n",
       " (179, [104, 101, 108, 108, 110]),\n",
       " (179, [104, 60, 53, 108, 111]),\n",
       " (179, [104, 60, 108, 108, 111]),\n",
       " (178, [104, 101, 54, 108, 108]),\n",
       " (178, [104, 101, 52, 108, 110]),\n",
       " (178, [104, 101, 50, 108, 111]),\n",
       " (178, [104, 60, 52, 108, 111]),\n",
       " (178, [102, 101, 53, 108, 111]),\n",
       " (178, [102, 101, 108, 108, 111]),\n",
       " (177, [102, 101, 52, 108, 111]),\n",
       " (176, [104, 101, 54, 108, 104]),\n",
       " (176, [104, 98, 53, 108, 111]),\n",
       " (176, [105, 101, 53, 108, 111]),\n",
       " (176, [106, 101, 53, 108, 111]),\n",
       " (176, [111, 101, 53, 108, 111]),\n",
       " (176, [104, 98, 108, 108, 111]),\n",
       " (176, [105, 101, 108, 108, 111]),\n",
       " (176, [106, 101, 108, 108, 111]),\n",
       " (176, [111, 101, 108, 108, 111]),\n",
       " (175, [104, 101, 54, 108, 110]),\n",
       " (175, [104, 98, 52, 108, 111]),\n",
       " (175, [105, 101, 52, 108, 111]),\n",
       " (175, [106, 101, 52, 108, 111]),\n",
       " (175, [111, 101, 52, 108, 111]),\n",
       " (175, [104, 99, 53, 108, 111]),\n",
       " (175, [110, 101, 53, 108, 111]),\n",
       " (175, [104, 60, 54, 108, 111]),\n",
       " (175, [104, 101, 106, 108, 111]),\n",
       " (175, [104, 99, 108, 108, 111]),\n",
       " (175, [110, 101, 108, 108, 111]),\n",
       " (175, [104, 101, 109, 108, 111]),\n",
       " (174, [104, 101, 53, 106, 111]),\n",
       " (174, [104, 101, 108, 106, 111]),\n",
       " (174, [104, 101, 53, 107, 111]),\n",
       " (174, [104, 101, 108, 107, 111]),\n",
       " (174, [104, 99, 52, 108, 111]),\n",
       " (174, [110, 101, 52, 108, 111]),\n",
       " (174, [104, 102, 53, 108, 111]),\n",
       " (174, [102, 101, 54, 108, 111]),\n",
       " (174, [104, 102, 108, 108, 111]),\n",
       " (174, [104, 101, 111, 108, 111]),\n",
       " (173, [104, 101, 52, 106, 111]),\n",
       " (173, [104, 101, 52, 107, 111]),\n",
       " (173, [104, 102, 52, 108, 111]),\n",
       " (173, [104, 100, 53, 108, 111]),\n",
       " (173, [107, 101, 53, 108, 111]),\n",
       " (173, [109, 101, 53, 108, 111]),\n",
       " (173, [127, 101, 53, 108, 111]),\n",
       " (173, [104, 100, 108, 108, 111]),\n",
       " (173, [107, 101, 108, 108, 111]),\n",
       " (173, [109, 101, 108, 108, 111]),\n",
       " (173, [127, 101, 108, 108, 111]),\n",
       " (173, [104, 101, 53, 111, 111]),\n",
       " (173, [104, 101, 108, 111, 111]),\n",
       " (172, [104, 60, 53, 108, 108]),\n",
       " (172, [104, 60, 108, 108, 108]),\n",
       " (172, [104, 100, 52, 108, 111]),\n",
       " (172, [107, 101, 52, 108, 111]),\n",
       " (172, [109, 101, 52, 108, 111]),\n",
       " (172, [127, 101, 52, 108, 111]),\n",
       " (172, [117, 101, 53, 108, 111]),\n",
       " (172, [120, 101, 53, 108, 111]),\n",
       " (172, [122, 101, 53, 108, 111]),\n",
       " (172, [125, 101, 53, 108, 111]),\n",
       " (172, [104, 98, 54, 108, 111]),\n",
       " (172, [105, 101, 54, 108, 111]),\n",
       " (172, [106, 101, 54, 108, 111]),\n",
       " (172, [111, 101, 54, 108, 111]),\n",
       " (172, [117, 101, 108, 108, 111]),\n",
       " (172, [120, 101, 108, 108, 111]),\n",
       " (172, [122, 101, 108, 108, 111]),\n",
       " (172, [125, 101, 108, 108, 111]),\n",
       " (172, [104, 101, 52, 111, 111]),\n",
       " (171, [104, 101, 50, 108, 108]),\n",
       " (171, [104, 60, 52, 108, 108]),\n",
       " (171, [102, 101, 53, 108, 108]),\n",
       " (171, [102, 101, 108, 108, 108]),\n",
       " (171, [117, 101, 52, 108, 111]),\n",
       " (171, [120, 101, 52, 108, 111]),\n",
       " (171, [122, 101, 52, 108, 111]),\n",
       " (171, [125, 101, 52, 108, 111]),\n",
       " (171, [101, 101, 53, 108, 111]),\n",
       " (171, [108, 101, 53, 108, 111]),\n",
       " (171, [124, 101, 53, 108, 111]),\n",
       " (171, [104, 99, 54, 108, 111]),\n",
       " (171, [110, 101, 54, 108, 111]),\n",
       " (171, [101, 101, 108, 108, 111]),\n",
       " (171, [108, 101, 108, 108, 111]),\n",
       " (171, [124, 101, 108, 108, 111]),\n",
       " (170, [104, 60, 53, 108, 104]),\n",
       " (170, [104, 60, 108, 108, 104]),\n",
       " (170, [102, 101, 52, 108, 108]),\n",
       " (170, [104, 101, 54, 106, 111]),\n",
       " (170, [104, 101, 54, 107, 111]),\n",
       " (170, [101, 101, 52, 108, 111]),\n",
       " (170, [108, 101, 52, 108, 111]),\n",
       " (170, [124, 101, 52, 108, 111]),\n",
       " (170, [118, 101, 53, 108, 111]),\n",
       " (170, [104, 102, 54, 108, 111]),\n",
       " (170, [118, 101, 108, 108, 111]),\n",
       " (170, [104, 101, 53, 109, 111]),\n",
       " (170, [104, 101, 108, 109, 111]),\n",
       " (169, [104, 101, 50, 108, 104]),\n",
       " (169, [104, 60, 52, 108, 104]),\n",
       " (169, [102, 101, 53, 108, 104]),\n",
       " (169, [102, 101, 108, 108, 104]),\n",
       " (169, [104, 98, 53, 108, 108]),\n",
       " (169, [105, 101, 53, 108, 108]),\n",
       " (169, [106, 101, 53, 108, 108]),\n",
       " (169, [111, 101, 53, 108, 108]),\n",
       " (169, [104, 98, 108, 108, 108]),\n",
       " (169, [105, 101, 108, 108, 108]),\n",
       " (169, [106, 101, 108, 108, 108]),\n",
       " (169, [111, 101, 108, 108, 108]),\n",
       " (169, [104, 60, 53, 108, 110]),\n",
       " (169, [104, 60, 108, 108, 110]),\n",
       " (169, [118, 101, 52, 108, 111]),\n",
       " (169, [96, 101, 53, 108, 111]),\n",
       " (169, [104, 100, 54, 108, 111]),\n",
       " (169, [107, 101, 54, 108, 111]),\n",
       " (169, [109, 101, 54, 108, 111]),\n",
       " (169, [127, 101, 54, 108, 111]),\n",
       " (169, [96, 101, 108, 108, 111]),\n",
       " (169, [104, 101, 52, 109, 111]),\n",
       " (169, [104, 101, 54, 111, 111]),\n",
       " (168, [102, 101, 52, 108, 104]),\n",
       " (168, [104, 98, 52, 108, 108]),\n",
       " (168, [105, 101, 52, 108, 108]),\n",
       " (168, [106, 101, 52, 108, 108]),\n",
       " (168, [111, 101, 52, 108, 108]),\n",
       " (168, [104, 99, 53, 108, 108]),\n",
       " (168, [110, 101, 53, 108, 108]),\n",
       " (168, [104, 60, 54, 108, 108]),\n",
       " (168, [104, 101, 106, 108, 108]),\n",
       " (168, [104, 99, 108, 108, 108]),\n",
       " (168, [110, 101, 108, 108, 108]),\n",
       " (168, [104, 101, 109, 108, 108]),\n",
       " (168, [104, 101, 50, 108, 110]),\n",
       " (168, [104, 60, 52, 108, 110]),\n",
       " (168, [102, 101, 53, 108, 110]),\n",
       " (168, [102, 101, 108, 108, 110]),\n",
       " (168, [104, 60, 50, 108, 111]),\n",
       " (168, [96, 101, 52, 108, 111]),\n",
       " (168, [102, 60, 53, 108, 111]),\n",
       " (168, [119, 101, 53, 108, 111]),\n",
       " (168, [117, 101, 54, 108, 111]),\n",
       " (168, [120, 101, 54, 108, 111]),\n",
       " (168, [122, 101, 54, 108, 111]),\n",
       " (168, [125, 101, 54, 108, 111]),\n",
       " (168, [102, 60, 108, 108, 111]),\n",
       " (168, [119, 101, 108, 108, 111]),\n",
       " (167, [104, 98, 53, 108, 104]),\n",
       " (167, [105, 101, 53, 108, 104]),\n",
       " (167, [106, 101, 53, 108, 104]),\n",
       " (167, [111, 101, 53, 108, 104]),\n",
       " (167, [104, 98, 108, 108, 104]),\n",
       " (167, [105, 101, 108, 108, 104]),\n",
       " (167, [106, 101, 108, 108, 104]),\n",
       " (167, [111, 101, 108, 108, 104]),\n",
       " (167, [104, 101, 53, 106, 108]),\n",
       " (167, [104, 101, 108, 106, 108]),\n",
       " (167, [104, 101, 53, 107, 108]),\n",
       " (167, [104, 101, 108, 107, 108]),\n",
       " (167, [104, 99, 52, 108, 108]),\n",
       " (167, [110, 101, 52, 108, 108]),\n",
       " (167, [104, 102, 53, 108, 108]),\n",
       " (167, [102, 101, 54, 108, 108]),\n",
       " (167, [104, 102, 108, 108, 108]),\n",
       " (167, [104, 101, 111, 108, 108]),\n",
       " (167, [102, 101, 52, 108, 110]),\n",
       " (167, [102, 101, 50, 108, 111]),\n",
       " (167, [102, 60, 52, 108, 111]),\n",
       " (167, [119, 101, 52, 108, 111]),\n",
       " (167, [101, 101, 54, 108, 111]),\n",
       " (167, [108, 101, 54, 108, 111]),\n",
       " (167, [124, 101, 54, 108, 111]),\n",
       " (166, [104, 98, 52, 108, 104]),\n",
       " (166, [105, 101, 52, 108, 104]),\n",
       " (166, [106, 101, 52, 108, 104]),\n",
       " (166, [111, 101, 52, 108, 104]),\n",
       " (166, [104, 99, 53, 108, 104]),\n",
       " (166, [110, 101, 53, 108, 104]),\n",
       " (166, [104, 60, 54, 108, 104]),\n",
       " (166, [104, 101, 106, 108, 104]),\n",
       " (166, [104, 99, 108, 108, 104]),\n",
       " (166, [110, 101, 108, 108, 104]),\n",
       " (166, [104, 101, 109, 108, 104]),\n",
       " (166, [104, 101, 52, 106, 108]),\n",
       " (166, [104, 101, 52, 107, 108]),\n",
       " (166, [104, 102, 52, 108, 108]),\n",
       " (166, [104, 100, 53, 108, 108]),\n",
       " (166, [107, 101, 53, 108, 108]),\n",
       " (166, [109, 101, 53, 108, 108]),\n",
       " (166, [127, 101, 53, 108, 108]),\n",
       " (166, [104, 100, 108, 108, 108]),\n",
       " (166, [107, 101, 108, 108, 108]),\n",
       " (166, [109, 101, 108, 108, 108]),\n",
       " (166, [127, 101, 108, 108, 108]),\n",
       " (166, [104, 101, 53, 111, 108]),\n",
       " (166, [104, 101, 108, 111, 108]),\n",
       " (166, [104, 98, 53, 108, 110]),\n",
       " (166, [105, 101, 53, 108, 110]),\n",
       " (166, [106, 101, 53, 108, 110]),\n",
       " (166, [111, 101, 53, 108, 110]),\n",
       " (166, [104, 98, 108, 108, 110]),\n",
       " (166, [105, 101, 108, 108, 110]),\n",
       " (166, [106, 101, 108, 108, 110]),\n",
       " (166, [111, 101, 108, 108, 110]),\n",
       " (166, [104, 56, 53, 108, 111]),\n",
       " (166, [105, 60, 53, 108, 111]),\n",
       " (166, [106, 60, 53, 108, 111]),\n",
       " (166, [111, 60, 53, 108, 111]),\n",
       " (166, [118, 101, 54, 108, 111]),\n",
       " (166, [104, 56, 108, 108, 111]),\n",
       " (166, [105, 60, 108, 108, 111]),\n",
       " (166, [106, 60, 108, 108, 111]),\n",
       " (166, [111, 60, 108, 108, 111]),\n",
       " (166, [104, 101, 54, 109, 111]),\n",
       " (165, [104, 101, 53, 106, 104]),\n",
       " (165, [104, 101, 108, 106, 104]),\n",
       " (165, [104, 101, 53, 107, 104]),\n",
       " (165, [104, 101, 108, 107, 104]),\n",
       " (165, [104, 99, 52, 108, 104]),\n",
       " (165, [110, 101, 52, 108, 104]),\n",
       " (165, [104, 102, 53, 108, 104]),\n",
       " (165, [102, 101, 54, 108, 104]),\n",
       " (165, [104, 102, 108, 108, 104]),\n",
       " (165, [104, 101, 111, 108, 104]),\n",
       " (165, [104, 100, 52, 108, 108]),\n",
       " (165, [107, 101, 52, 108, 108]),\n",
       " (165, [109, 101, 52, 108, 108]),\n",
       " (165, [127, 101, 52, 108, 108]),\n",
       " (165, [117, 101, 53, 108, 108]),\n",
       " (165, [120, 101, 53, 108, 108]),\n",
       " (165, [122, 101, 53, 108, 108]),\n",
       " (165, [125, 101, 53, 108, 108]),\n",
       " (165, [104, 98, 54, 108, 108]),\n",
       " (165, [105, 101, 54, 108, 108]),\n",
       " (165, [106, 101, 54, 108, 108]),\n",
       " (165, [111, 101, 54, 108, 108]),\n",
       " (165, [117, 101, 108, 108, 108]),\n",
       " (165, [120, 101, 108, 108, 108]),\n",
       " (165, [122, 101, 108, 108, 108]),\n",
       " (165, [125, 101, 108, 108, 108]),\n",
       " (165, [104, 101, 52, 111, 108]),\n",
       " (165, [104, 98, 52, 108, 110]),\n",
       " (165, [105, 101, 52, 108, 110]),\n",
       " (165, [106, 101, 52, 108, 110]),\n",
       " (165, [111, 101, 52, 108, 110]),\n",
       " (165, [104, 99, 53, 108, 110]),\n",
       " (165, [110, 101, 53, 108, 110]),\n",
       " (165, [104, 60, 54, 108, 110]),\n",
       " (165, [104, 101, 106, 108, 110]),\n",
       " (165, [104, 99, 108, 108, 110]),\n",
       " (165, [110, 101, 108, 108, 110]),\n",
       " (165, [104, 101, 109, 108, 110]),\n",
       " (165, [104, 98, 50, 108, 111]),\n",
       " (165, [105, 101, 50, 108, 111]),\n",
       " (165, [106, 101, 50, 108, 111]),\n",
       " (165, [111, 101, 50, 108, 111]),\n",
       " (165, [104, 56, 52, 108, 111]),\n",
       " (165, [105, 60, 52, 108, 111]),\n",
       " (165, [106, 60, 52, 108, 111]),\n",
       " (165, [111, 60, 52, 108, 111]),\n",
       " (165, [110, 60, 53, 108, 111]),\n",
       " (165, [102, 98, 53, 108, 111]),\n",
       " (165, [96, 101, 54, 108, 111]),\n",
       " (165, [104, 60, 106, 108, 111]),\n",
       " (165, [110, 60, 108, 108, 111]),\n",
       " (165, [102, 98, 108, 108, 111]),\n",
       " (165, [104, 60, 109, 108, 111]),\n",
       " (164, [104, 101, 52, 106, 104]),\n",
       " (164, [104, 101, 52, 107, 104]),\n",
       " (164, [104, 102, 52, 108, 104]),\n",
       " (164, [104, 100, 53, 108, 104]),\n",
       " (164, [107, 101, 53, 108, 104]),\n",
       " (164, [109, 101, 53, 108, 104]),\n",
       " (164, [127, 101, 53, 108, 104]),\n",
       " (164, [104, 100, 108, 108, 104]),\n",
       " (164, [107, 101, 108, 108, 104]),\n",
       " (164, [109, 101, 108, 108, 104]),\n",
       " (164, [127, 101, 108, 108, 104]),\n",
       " (164, [104, 101, 53, 111, 104]),\n",
       " (164, [104, 101, 108, 111, 104]),\n",
       " (164, [117, 101, 52, 108, 108]),\n",
       " (164, [120, 101, 52, 108, 108]),\n",
       " (164, [122, 101, 52, 108, 108]),\n",
       " (164, [125, 101, 52, 108, 108]),\n",
       " (164, [101, 101, 53, 108, 108]),\n",
       " (164, [108, 101, 53, 108, 108]),\n",
       " (164, [124, 101, 53, 108, 108]),\n",
       " (164, [104, 99, 54, 108, 108]),\n",
       " (164, [110, 101, 54, 108, 108]),\n",
       " (164, [101, 101, 108, 108, 108]),\n",
       " (164, [108, 101, 108, 108, 108]),\n",
       " (164, [124, 101, 108, 108, 108]),\n",
       " (164, [104, 101, 53, 106, 110]),\n",
       " (164, [104, 101, 108, 106, 110]),\n",
       " (164, [104, 101, 53, 107, 110]),\n",
       " (164, [104, 101, 108, 107, 110]),\n",
       " (164, [104, 99, 52, 108, 110]),\n",
       " (164, [110, 101, 52, 108, 110]),\n",
       " (164, [104, 102, 53, 108, 110]),\n",
       " (164, [102, 101, 54, 108, 110]),\n",
       " (164, [104, 102, 108, 108, 110]),\n",
       " (164, [104, 101, 111, 108, 110]),\n",
       " (164, [104, 60, 53, 106, 111]),\n",
       " (164, [104, 60, 108, 106, 111]),\n",
       " (164, [104, 60, 53, 107, 111]),\n",
       " (164, [104, 60, 108, 107, 111]),\n",
       " (164, [104, 99, 50, 108, 111]),\n",
       " (164, [110, 101, 50, 108, 111]),\n",
       " (164, [110, 60, 52, 108, 111]),\n",
       " (164, [102, 98, 52, 108, 111]),\n",
       " (164, [102, 99, 53, 108, 111]),\n",
       " (164, [112, 101, 53, 108, 111]),\n",
       " (164, [102, 60, 54, 108, 111]),\n",
       " (164, [119, 101, 54, 108, 111]),\n",
       " (164, [102, 101, 106, 108, 111]),\n",
       " (164, [102, 99, 108, 108, 111]),\n",
       " (164, [112, 101, 108, 108, 111]),\n",
       " (164, [102, 101, 109, 108, 111]),\n",
       " (164, [104, 60, 111, 108, 111]),\n",
       " (163, [104, 100, 52, 108, 104]),\n",
       " (163, [107, 101, 52, 108, 104]),\n",
       " (163, [109, 101, 52, 108, 104]),\n",
       " (163, [127, 101, 52, 108, 104]),\n",
       " (163, [117, 101, 53, 108, 104]),\n",
       " (163, [120, 101, 53, 108, 104]),\n",
       " (163, [122, 101, 53, 108, 104]),\n",
       " (163, [125, 101, 53, 108, 104]),\n",
       " (163, [104, 98, 54, 108, 104]),\n",
       " (163, [105, 101, 54, 108, 104]),\n",
       " (163, [106, 101, 54, 108, 104]),\n",
       " (163, [111, 101, 54, 108, 104]),\n",
       " (163, [117, 101, 108, 108, 104]),\n",
       " (163, [120, 101, 108, 108, 104]),\n",
       " (163, [122, 101, 108, 108, 104]),\n",
       " (163, [125, 101, 108, 108, 104]),\n",
       " (163, [104, 101, 52, 111, 104]),\n",
       " (163, [104, 101, 54, 106, 108]),\n",
       " (163, [104, 101, 54, 107, 108]),\n",
       " (163, [101, 101, 52, 108, 108]),\n",
       " (163, [108, 101, 52, 108, 108]),\n",
       " (163, [124, 101, 52, 108, 108]),\n",
       " (163, [118, 101, 53, 108, 108]),\n",
       " (163, [104, 102, 54, 108, 108]),\n",
       " (163, [118, 101, 108, 108, 108]),\n",
       " (163, [104, 101, 53, 109, 108]),\n",
       " (163, [104, 101, 108, 109, 108]),\n",
       " (163, [104, 101, 52, 106, 110]),\n",
       " (163, [104, 101, 52, 107, 110]),\n",
       " (163, [104, 102, 52, 108, 110]),\n",
       " (163, [104, 100, 53, 108, 110]),\n",
       " (163, [107, 101, 53, 108, 110]),\n",
       " (163, [109, 101, 53, 108, 110]),\n",
       " (163, [127, 101, 53, 108, 110]),\n",
       " (163, [104, 100, 108, 108, 110]),\n",
       " (163, [107, 101, 108, 108, 110]),\n",
       " (163, [109, 101, 108, 108, 110]),\n",
       " (163, [127, 101, 108, 108, 110]),\n",
       " (163, [104, 101, 53, 111, 110]),\n",
       " (163, [104, 101, 108, 111, 110]),\n",
       " (163, [104, 101, 50, 106, 111]),\n",
       " (163, [104, 60, 52, 106, 111]),\n",
       " (163, [102, 101, 53, 106, 111]),\n",
       " (163, [102, 101, 108, 106, 111]),\n",
       " (163, [104, 101, 50, 107, 111]),\n",
       " (163, [104, 60, 52, 107, 111]),\n",
       " (163, [102, 101, 53, 107, 111]),\n",
       " (163, [102, 101, 108, 107, 111]),\n",
       " (163, [104, 102, 50, 108, 111]),\n",
       " (163, [102, 99, 52, 108, 111]),\n",
       " (163, [112, 101, 52, 108, 111]),\n",
       " (163, [107, 60, 53, 108, 111]),\n",
       " (163, [109, 60, 53, 108, 111]),\n",
       " (163, [127, 60, 53, 108, 111]),\n",
       " (163, [105, 98, 53, 108, 111]),\n",
       " (163, [106, 98, 53, 108, 111]),\n",
       " (163, [111, 98, 53, 108, 111]),\n",
       " (163, [102, 102, 53, 108, 111]),\n",
       " (163, [107, 60, 108, 108, 111]),\n",
       " (163, [109, 60, 108, 108, 111]),\n",
       " (163, [127, 60, 108, 108, 111]),\n",
       " (163, [105, 98, 108, 108, 111]),\n",
       " (163, [106, 98, 108, 108, 111]),\n",
       " (163, [111, 98, 108, 108, 111]),\n",
       " (163, [102, 102, 108, 108, 111]),\n",
       " (163, [102, 101, 111, 108, 111]),\n",
       " (163, [104, 60, 53, 111, 111]),\n",
       " (163, [104, 60, 108, 111, 111]),\n",
       " (162, [117, 101, 52, 108, 104]),\n",
       " (162, [120, 101, 52, 108, 104]),\n",
       " (162, [122, 101, 52, 108, 104]),\n",
       " (162, [125, 101, 52, 108, 104]),\n",
       " (162, [101, 101, 53, 108, 104]),\n",
       " (162, [108, 101, 53, 108, 104]),\n",
       " (162, [124, 101, 53, 108, 104]),\n",
       " (162, [104, 99, 54, 108, 104]),\n",
       " (162, [110, 101, 54, 108, 104]),\n",
       " (162, [101, 101, 108, 108, 104]),\n",
       " (162, [108, 101, 108, 108, 104]),\n",
       " (162, [124, 101, 108, 108, 104]),\n",
       " (162, [118, 101, 52, 108, 108]),\n",
       " (162, [96, 101, 53, 108, 108]),\n",
       " (162, [104, 100, 54, 108, 108]),\n",
       " (162, [107, 101, 54, 108, 108]),\n",
       " (162, [109, 101, 54, 108, 108]),\n",
       " (162, [127, 101, 54, 108, 108]),\n",
       " (162, [96, 101, 108, 108, 108]),\n",
       " (162, [104, 101, 52, 109, 108]),\n",
       " (162, [104, 101, 54, 111, 108]),\n",
       " (162, [104, 100, 52, 108, 110]),\n",
       " (162, [107, 101, 52, 108, 110]),\n",
       " (162, [109, 101, 52, 108, 110]),\n",
       " (162, [127, 101, 52, 108, 110]),\n",
       " (162, [117, 101, 53, 108, 110]),\n",
       " (162, [120, 101, 53, 108, 110]),\n",
       " (162, [122, 101, 53, 108, 110]),\n",
       " (162, [125, 101, 53, 108, 110]),\n",
       " (162, [104, 98, 54, 108, 110]),\n",
       " (162, [105, 101, 54, 108, 110]),\n",
       " (162, [106, 101, 54, 108, 110]),\n",
       " (162, [111, 101, 54, 108, 110]),\n",
       " (162, [117, 101, 108, 108, 110]),\n",
       " (162, [120, 101, 108, 108, 110]),\n",
       " (162, [122, 101, 108, 108, 110]),\n",
       " (162, [125, 101, 108, 108, 110]),\n",
       " (162, [104, 101, 52, 111, 110]),\n",
       " (162, [102, 101, 52, 106, 111]),\n",
       " (162, [102, 101, 52, 107, 111]),\n",
       " (162, [104, 100, 50, 108, 111]),\n",
       " (162, [107, 101, 50, 108, 111]),\n",
       " (162, [109, 101, 50, 108, 111]),\n",
       " (162, [127, 101, 50, 108, 111]),\n",
       " (162, [107, 60, 52, 108, 111]),\n",
       " (162, [109, 60, 52, 108, 111]),\n",
       " (162, [127, 60, 52, 108, 111]),\n",
       " (162, [105, 98, 52, 108, 111]),\n",
       " (162, [106, 98, 52, 108, 111]),\n",
       " (162, [111, 98, 52, 108, 111]),\n",
       " (162, [102, 102, 52, 108, 111]),\n",
       " (162, [117, 60, 53, 108, 111]),\n",
       " (162, [120, 60, 53, 108, 111]),\n",
       " (162, [122, 60, 53, 108, 111]),\n",
       " (162, [125, 60, 53, 108, 111]),\n",
       " (162, [110, 98, 53, 108, 111]),\n",
       " (162, [105, 99, 53, 108, 111]),\n",
       " (162, [106, 99, 53, 108, 111]),\n",
       " (162, [111, 99, 53, 108, 111]),\n",
       " (162, [102, 100, 53, 108, 111]),\n",
       " (162, [104, 56, 54, 108, 111]),\n",
       " (162, [105, 60, 54, 108, 111]),\n",
       " (162, [106, 60, 54, 108, 111]),\n",
       " (162, [111, 60, 54, 108, 111]),\n",
       " (162, [104, 98, 106, 108, 111]),\n",
       " (162, [105, 101, 106, 108, 111]),\n",
       " (162, [106, 101, 106, 108, 111]),\n",
       " (162, [111, 101, 106, 108, 111]),\n",
       " (162, [117, 60, 108, 108, 111]),\n",
       " (162, [120, 60, 108, 108, 111]),\n",
       " (162, [122, 60, 108, 108, 111]),\n",
       " (162, [125, 60, 108, 108, 111]),\n",
       " (162, [110, 98, 108, 108, 111]),\n",
       " (162, [105, 99, 108, 108, 111]),\n",
       " (162, [106, 99, 108, 108, 111]),\n",
       " (162, [111, 99, 108, 108, 111]),\n",
       " (162, [102, 100, 108, 108, 111]),\n",
       " (162, [104, 98, 109, 108, 111]),\n",
       " (162, [105, 101, 109, 108, 111]),\n",
       " (162, [106, 101, 109, 108, 111]),\n",
       " (162, [111, 101, 109, 108, 111]),\n",
       " (162, [104, 101, 50, 111, 111]),\n",
       " (162, [104, 60, 52, 111, 111]),\n",
       " (162, [102, 101, 53, 111, 111]),\n",
       " (162, [102, 101, 108, 111, 111]),\n",
       " (161, [104, 101, 54, 106, 104]),\n",
       " (161, [104, 101, 54, 107, 104]),\n",
       " (161, [101, 101, 52, 108, 104]),\n",
       " (161, [108, 101, 52, 108, 104]),\n",
       " (161, [124, 101, 52, 108, 104]),\n",
       " (161, [118, 101, 53, 108, 104]),\n",
       " (161, [104, 102, 54, 108, 104]),\n",
       " (161, [118, 101, 108, 108, 104]),\n",
       " (161, [104, 101, 53, 109, 104]),\n",
       " (161, [104, 101, 108, 109, 104]),\n",
       " (161, [104, 60, 50, 108, 108]),\n",
       " (161, [96, 101, 52, 108, 108]),\n",
       " (161, [102, 60, 53, 108, 108]),\n",
       " (161, [119, 101, 53, 108, 108]),\n",
       " (161, [117, 101, 54, 108, 108]),\n",
       " (161, [120, 101, 54, 108, 108]),\n",
       " (161, [122, 101, 54, 108, 108]),\n",
       " (161, [125, 101, 54, 108, 108]),\n",
       " (161, [102, 60, 108, 108, 108]),\n",
       " (161, [119, 101, 108, 108, 108]),\n",
       " (161, [117, 101, 52, 108, 110]),\n",
       " (161, [120, 101, 52, 108, 110]),\n",
       " (161, [122, 101, 52, 108, 110]),\n",
       " (161, [125, 101, 52, 108, 110]),\n",
       " (161, [101, 101, 53, 108, 110]),\n",
       " (161, [108, 101, 53, 108, 110]),\n",
       " (161, [124, 101, 53, 108, 110]),\n",
       " (161, [104, 99, 54, 108, 110]),\n",
       " (161, [110, 101, 54, 108, 110]),\n",
       " (161, [101, 101, 108, 108, 110]),\n",
       " (161, [108, 101, 108, 108, 110]),\n",
       " (161, [124, 101, 108, 108, 110]),\n",
       " (161, [104, 98, 53, 106, 111]),\n",
       " (161, [105, 101, 53, 106, 111]),\n",
       " (161, [106, 101, 53, 106, 111]),\n",
       " (161, [111, 101, 53, 106, 111]),\n",
       " (161, [104, 98, 108, 106, 111]),\n",
       " (161, [105, 101, 108, 106, 111]),\n",
       " (161, [106, 101, 108, 106, 111]),\n",
       " (161, [111, 101, 108, 106, 111]),\n",
       " (161, [104, 98, 53, 107, 111]),\n",
       " (161, [105, 101, 53, 107, 111]),\n",
       " (161, [106, 101, 53, 107, 111]),\n",
       " (161, [111, 101, 53, 107, 111]),\n",
       " (161, [104, 98, 108, 107, 111]),\n",
       " (161, [105, 101, 108, 107, 111]),\n",
       " (161, [106, 101, 108, 107, 111]),\n",
       " (161, [111, 101, 108, 107, 111]),\n",
       " (161, [117, 101, 50, 108, 111]),\n",
       " (161, [120, 101, 50, 108, 111]),\n",
       " (161, [122, 101, 50, 108, 111]),\n",
       " (161, [125, 101, 50, 108, 111]),\n",
       " (161, [117, 60, 52, 108, 111]),\n",
       " (161, [120, 60, 52, 108, 111]),\n",
       " (161, [122, 60, 52, 108, 111]),\n",
       " (161, [125, 60, 52, 108, 111]),\n",
       " (161, [110, 98, 52, 108, 111]),\n",
       " (161, [105, 99, 52, 108, 111]),\n",
       " (161, [106, 99, 52, 108, 111]),\n",
       " (161, [111, 99, 52, 108, 111]),\n",
       " (161, [102, 100, 52, 108, 111]),\n",
       " (161, [101, 60, 53, 108, 111]),\n",
       " (161, [108, 60, 53, 108, 111]),\n",
       " (161, [124, 60, 53, 108, 111]),\n",
       " (161, [110, 99, 53, 108, 111]),\n",
       " (161, [105, 102, 53, 108, 111]),\n",
       " (161, [106, 102, 53, 108, 111]),\n",
       " (161, [111, 102, 53, 108, 111]),\n",
       " (161, [110, 60, 54, 108, 111]),\n",
       " (161, [102, 98, 54, 108, 111]),\n",
       " (161, [104, 99, 106, 108, 111]),\n",
       " (161, [110, 101, 106, 108, 111]),\n",
       " (161, [101, 60, 108, 108, 111]),\n",
       " (161, [108, 60, 108, 108, 111]),\n",
       " (161, [124, 60, 108, 108, 111]),\n",
       " (161, [110, 99, 108, 108, 111]),\n",
       " (161, [105, 102, 108, 108, 111]),\n",
       " (161, [106, 102, 108, 108, 111]),\n",
       " (161, [111, 102, 108, 108, 111]),\n",
       " (161, [104, 99, 109, 108, 111]),\n",
       " (161, [110, 101, 109, 108, 111]),\n",
       " (161, [104, 98, 111, 108, 111]),\n",
       " (161, [105, 101, 111, 108, 111]),\n",
       " (161, [106, 101, 111, 108, 111]),\n",
       " (161, [111, 101, 111, 108, 111]),\n",
       " (161, [102, 101, 52, 111, 111]),\n",
       " (160, [118, 101, 52, 108, 104]),\n",
       " (160, [96, 101, 53, 108, 104]),\n",
       " (160, [104, 100, 54, 108, 104]),\n",
       " (160, [107, 101, 54, 108, 104]),\n",
       " (160, [109, 101, 54, 108, 104]),\n",
       " (160, [127, 101, 54, 108, 104]),\n",
       " (160, [96, 101, 108, 108, 104]),\n",
       " (160, [104, 101, 52, 109, 104]),\n",
       " (160, [104, 101, 54, 111, 104]),\n",
       " (160, [102, 101, 50, 108, 108]),\n",
       " (160, [102, 60, 52, 108, 108]),\n",
       " (160, [119, 101, 52, 108, 108]),\n",
       " (160, [101, 101, 54, 108, 108]),\n",
       " (160, [108, 101, 54, 108, 108]),\n",
       " (160, [124, 101, 54, 108, 108]),\n",
       " (160, [104, 101, 54, 106, 110]),\n",
       " (160, [104, 101, 54, 107, 110]),\n",
       " (160, [101, 101, 52, 108, 110]),\n",
       " (160, [108, 101, 52, 108, 110]),\n",
       " (160, [124, 101, 52, 108, 110]),\n",
       " (160, [118, 101, 53, 108, 110]),\n",
       " (160, [104, 102, 54, 108, 110]),\n",
       " (160, [118, 101, 108, 108, 110]),\n",
       " (160, [104, 101, 53, 109, 110]),\n",
       " (160, [104, 101, 108, 109, 110]),\n",
       " (160, [104, 98, 52, 106, 111]),\n",
       " (160, [105, 101, 52, 106, 111]),\n",
       " (160, [106, 101, 52, 106, 111]),\n",
       " (160, [111, 101, 52, 106, 111]),\n",
       " (160, [104, 99, 53, 106, 111]),\n",
       " (160, [110, 101, 53, 106, 111]),\n",
       " (160, [104, 60, 54, 106, 111]),\n",
       " (160, [104, 101, 106, 106, 111]),\n",
       " (160, [104, 99, 108, 106, 111]),\n",
       " (160, [110, 101, 108, 106, 111]),\n",
       " (160, [104, 101, 109, 106, 111]),\n",
       " (160, [104, 98, 52, 107, 111]),\n",
       " (160, [105, 101, 52, 107, 111]),\n",
       " (160, [106, 101, 52, 107, 111]),\n",
       " (160, [111, 101, 52, 107, 111]),\n",
       " (160, [104, 99, 53, 107, 111]),\n",
       " (160, [110, 101, 53, 107, 111]),\n",
       " (160, [104, 60, 54, 107, 111]),\n",
       " (160, [104, 101, 106, 107, 111]),\n",
       " (160, [104, 99, 108, 107, 111]),\n",
       " (160, [110, 101, 108, 107, 111]),\n",
       " (160, [104, 101, 109, 107, 111]),\n",
       " (160, [101, 101, 50, 108, 111]),\n",
       " (160, [108, 101, 50, 108, 111]),\n",
       " (160, [124, 101, 50, 108, 111]),\n",
       " (160, [101, 60, 52, 108, 111]),\n",
       " (160, [108, 60, 52, 108, 111]),\n",
       " (160, [124, 60, 52, 108, 111]),\n",
       " (160, [110, 99, 52, 108, 111]),\n",
       " (160, [105, 102, 52, 108, 111]),\n",
       " (160, [106, 102, 52, 108, 111]),\n",
       " (160, [111, 102, 52, 108, 111]),\n",
       " (160, [118, 60, 53, 108, 111]),\n",
       " (160, [107, 98, 53, 108, 111]),\n",
       " (160, [109, 98, 53, 108, 111]),\n",
       " (160, [127, 98, 53, 108, 111]),\n",
       " (160, [105, 100, 53, 108, 111]),\n",
       " (160, [106, 100, 53, 108, 111]),\n",
       " (160, [111, 100, 53, 108, 111]),\n",
       " (160, [110, 102, 53, 108, 111]),\n",
       " (160, [102, 99, 54, 108, 111]),\n",
       " (160, [112, 101, 54, 108, 111]),\n",
       " (160, [104, 102, 106, 108, 111]),\n",
       " (160, [118, 60, 108, 108, 111]),\n",
       " (160, [107, 98, 108, 108, 111]),\n",
       " (160, [109, 98, 108, 108, 111]),\n",
       " (160, [127, 98, 108, 108, 111]),\n",
       " (160, [105, 100, 108, 108, 111]),\n",
       " (160, [106, 100, 108, 108, 111]),\n",
       " (160, [111, 100, 108, 108, 111]),\n",
       " (160, [110, 102, 108, 108, 111]),\n",
       " (160, [104, 102, 109, 108, 111]),\n",
       " (160, [104, 99, 111, 108, 111]),\n",
       " (160, [110, 101, 111, 108, 111]),\n",
       " (160, [104, 60, 53, 109, 111]),\n",
       " (160, [104, 60, 108, 109, 111]),\n",
       " (160, [104, 98, 53, 111, 111]),\n",
       " (160, [105, 101, 53, 111, 111]),\n",
       " (160, [106, 101, 53, 111, 111]),\n",
       " (160, [111, 101, 53, 111, 111]),\n",
       " (160, [104, 98, 108, 111, 111]),\n",
       " (160, [105, 101, 108, 111, 111]),\n",
       " (160, [106, 101, 108, 111, 111]),\n",
       " (160, [111, 101, 108, 111, 111]),\n",
       " (159, [104, 60, 50, 108, 104]),\n",
       " (159, [96, 101, 52, 108, 104]),\n",
       " (159, [102, 60, 53, 108, 104]),\n",
       " (159, [119, 101, 53, 108, 104]),\n",
       " (159, [117, 101, 54, 108, 104]),\n",
       " (159, [120, 101, 54, 108, 104]),\n",
       " (159, [122, 101, 54, 108, 104]),\n",
       " (159, [125, 101, 54, 108, 104]),\n",
       " (159, [102, 60, 108, 108, 104]),\n",
       " (159, [119, 101, 108, 108, 104]),\n",
       " (159, [104, 56, 53, 108, 108]),\n",
       " (159, [105, 60, 53, 108, 108]),\n",
       " (159, [106, 60, 53, 108, 108]),\n",
       " (159, [111, 60, 53, 108, 108]),\n",
       " (159, [118, 101, 54, 108, 108]),\n",
       " (159, [104, 56, 108, 108, 108]),\n",
       " (159, [105, 60, 108, 108, 108]),\n",
       " (159, [106, 60, 108, 108, 108]),\n",
       " (159, [111, 60, 108, 108, 108]),\n",
       " (159, [104, 101, 54, 109, 108]),\n",
       " (159, [118, 101, 52, 108, 110]),\n",
       " (159, [96, 101, 53, 108, 110]),\n",
       " (159, [104, 100, 54, 108, 110]),\n",
       " (159, [107, 101, 54, 108, 110]),\n",
       " (159, [109, 101, 54, 108, 110]),\n",
       " (159, [127, 101, 54, 108, 110]),\n",
       " (159, [96, 101, 108, 108, 110]),\n",
       " (159, [104, 101, 52, 109, 110]),\n",
       " (159, [104, 101, 54, 111, 110]),\n",
       " (159, [104, 99, 52, 106, 111]),\n",
       " (159, [110, 101, 52, 106, 111]),\n",
       " (159, [104, 102, 53, 106, 111]),\n",
       " (159, [102, 101, 54, 106, 111]),\n",
       " (159, [104, 102, 108, 106, 111]),\n",
       " (159, [104, 101, 111, 106, 111]),\n",
       " (159, [104, 99, 52, 107, 111]),\n",
       " (159, [110, 101, 52, 107, 111]),\n",
       " (159, [104, 102, 53, 107, 111]),\n",
       " (159, [102, 101, 54, 107, 111]),\n",
       " (159, [104, 102, 108, 107, 111]),\n",
       " (159, [104, 101, 111, 107, 111]),\n",
       " (159, [118, 101, 50, 108, 111]),\n",
       " (159, [118, 60, 52, 108, 111]),\n",
       " (159, [107, 98, 52, 108, 111]),\n",
       " (159, [109, 98, 52, 108, 111]),\n",
       " (159, [127, 98, 52, 108, 111]),\n",
       " (159, [105, 100, 52, 108, 111]),\n",
       " (159, [106, 100, 52, 108, 111]),\n",
       " (159, [111, 100, 52, 108, 111]),\n",
       " (159, [110, 102, 52, 108, 111]),\n",
       " (159, [96, 60, 53, 108, 111]),\n",
       " (159, [117, 98, 53, 108, 111]),\n",
       " (159, [120, 98, 53, 108, 111]),\n",
       " (159, [122, 98, 53, 108, 111]),\n",
       " (159, [125, 98, 53, 108, 111]),\n",
       " (159, [107, 99, 53, 108, 111]),\n",
       " (159, [109, 99, 53, 108, 111]),\n",
       " (159, [127, 99, 53, 108, 111]),\n",
       " (159, [110, 100, 53, 108, 111]),\n",
       " (159, [107, 60, 54, 108, 111]),\n",
       " (159, [109, 60, 54, 108, 111]),\n",
       " (159, [127, 60, 54, 108, 111]),\n",
       " (159, [105, 98, 54, 108, 111]),\n",
       " (159, [106, 98, 54, 108, 111]),\n",
       " (159, [111, 98, 54, 108, 111]),\n",
       " (159, [102, 102, 54, 108, 111]),\n",
       " (159, [104, 100, 106, 108, 111]),\n",
       " (159, [107, 101, 106, 108, 111]),\n",
       " (159, [109, 101, 106, 108, 111]),\n",
       " (159, [127, 101, 106, 108, 111]),\n",
       " (159, [96, 60, 108, 108, 111]),\n",
       " (159, [117, 98, 108, 108, 111]),\n",
       " (159, [120, 98, 108, 108, 111]),\n",
       " (159, [122, 98, 108, 108, 111]),\n",
       " (159, [125, 98, 108, 108, 111]),\n",
       " (159, [107, 99, 108, 108, 111]),\n",
       " (159, [109, 99, 108, 108, 111]),\n",
       " (159, [127, 99, 108, 108, 111]),\n",
       " (159, [110, 100, 108, 108, 111]),\n",
       " (159, [104, 100, 109, 108, 111]),\n",
       " (159, [107, 101, 109, 108, 111]),\n",
       " (159, [109, 101, 109, 108, 111]),\n",
       " (159, [127, 101, 109, 108, 111]),\n",
       " (159, [104, 102, 111, 108, 111]),\n",
       " (159, [104, 101, 50, 109, 111]),\n",
       " (159, [104, 60, 52, 109, 111]),\n",
       " (159, [102, 101, 53, 109, 111]),\n",
       " (159, [102, 101, 108, 109, 111]),\n",
       " (159, [104, 98, 52, 111, 111]),\n",
       " (159, [105, 101, 52, 111, 111]),\n",
       " (159, [106, 101, 52, 111, 111]),\n",
       " (159, [111, 101, 52, 111, 111]),\n",
       " (159, [104, 99, 53, 111, 111]),\n",
       " (159, [110, 101, 53, 111, 111]),\n",
       " (159, [104, 60, 54, 111, 111]),\n",
       " (159, [104, 101, 106, 111, 111]),\n",
       " (159, [104, 99, 108, 111, 111]),\n",
       " (159, [110, 101, 108, 111, 111]),\n",
       " (159, [104, 101, 109, 111, 111]),\n",
       " (158, [102, 101, 50, 108, 104]),\n",
       " (158, [102, 60, 52, 108, 104]),\n",
       " (158, [119, 101, 52, 108, 104]),\n",
       " (158, [101, 101, 54, 108, 104]),\n",
       " (158, [108, 101, 54, 108, 104]),\n",
       " (158, [124, 101, 54, 108, 104]),\n",
       " (158, [104, 98, 50, 108, 108]),\n",
       " (158, [105, 101, 50, 108, 108]),\n",
       " (158, [106, 101, 50, 108, 108]),\n",
       " (158, [111, 101, 50, 108, 108]),\n",
       " (158, [104, 56, 52, 108, 108]),\n",
       " (158, [105, 60, 52, 108, 108]),\n",
       " (158, [106, 60, 52, 108, 108]),\n",
       " (158, [111, 60, 52, 108, 108]),\n",
       " (158, [110, 60, 53, 108, 108]),\n",
       " (158, [102, 98, 53, 108, 108]),\n",
       " (158, [96, 101, 54, 108, 108]),\n",
       " (158, [104, 60, 106, 108, 108]),\n",
       " (158, [110, 60, 108, 108, 108]),\n",
       " (158, [102, 98, 108, 108, 108]),\n",
       " (158, [104, 60, 109, 108, 108]),\n",
       " (158, [104, 60, 50, 108, 110]),\n",
       " (158, [96, 101, 52, 108, 110]),\n",
       " (158, [102, 60, 53, 108, 110]),\n",
       " (158, [119, 101, 53, 108, 110]),\n",
       " (158, [117, 101, 54, 108, 110]),\n",
       " (158, [120, 101, 54, 108, 110]),\n",
       " (158, [122, 101, 54, 108, 110]),\n",
       " (158, [125, 101, 54, 108, 110]),\n",
       " (158, [102, 60, 108, 108, 110]),\n",
       " (158, [119, 101, 108, 108, 110]),\n",
       " (158, [104, 102, 52, 106, 111]),\n",
       " (158, [104, 100, 53, 106, 111]),\n",
       " (158, [107, 101, 53, 106, 111]),\n",
       " (158, [109, 101, 53, 106, 111]),\n",
       " (158, [127, 101, 53, 106, 111]),\n",
       " (158, [104, 100, 108, 106, 111]),\n",
       " (158, [107, 101, 108, 106, 111]),\n",
       " (158, [109, 101, 108, 106, 111]),\n",
       " (158, [127, 101, 108, 106, 111]),\n",
       " (158, [104, 102, 52, 107, 111]),\n",
       " (158, [104, 100, 53, 107, 111]),\n",
       " (158, [107, 101, 53, 107, 111]),\n",
       " (158, [109, 101, 53, 107, 111]),\n",
       " (158, [127, 101, 53, 107, 111]),\n",
       " (158, [104, 100, 108, 107, 111]),\n",
       " (158, [107, 101, 108, 107, 111]),\n",
       " (158, [109, 101, 108, 107, 111]),\n",
       " (158, [127, 101, 108, 107, 111]),\n",
       " (158, [96, 101, 50, 108, 111]),\n",
       " (158, [96, 60, 52, 108, 111]),\n",
       " (158, [117, 98, 52, 108, 111]),\n",
       " (158, [120, 98, 52, 108, 111]),\n",
       " (158, [122, 98, 52, 108, 111]),\n",
       " (158, [125, 98, 52, 108, 111]),\n",
       " (158, [107, 99, 52, 108, 111]),\n",
       " (158, [109, 99, 52, 108, 111]),\n",
       " (158, [127, 99, 52, 108, 111]),\n",
       " (158, [110, 100, 52, 108, 111]),\n",
       " (158, [119, 60, 53, 108, 111]),\n",
       " (158, [101, 98, 53, 108, 111]),\n",
       " (158, [108, 98, 53, 108, 111]),\n",
       " (158, [124, 98, 53, 108, 111]),\n",
       " (158, [117, 99, 53, 108, 111]),\n",
       " (158, [120, 99, 53, 108, 111]),\n",
       " (158, [122, 99, 53, 108, 111]),\n",
       " (158, [125, 99, 53, 108, 111]),\n",
       " (158, [107, 102, 53, 108, 111]),\n",
       " (158, [109, 102, 53, 108, 111]),\n",
       " (158, [127, 102, 53, 108, 111]),\n",
       " (158, [117, 60, 54, 108, 111]),\n",
       " (158, [120, 60, 54, 108, 111]),\n",
       " (158, [122, 60, 54, 108, 111]),\n",
       " (158, [125, 60, 54, 108, 111]),\n",
       " (158, [110, 98, 54, 108, 111]),\n",
       " (158, [105, 99, 54, 108, 111]),\n",
       " (158, [106, 99, 54, 108, 111]),\n",
       " (158, [111, 99, 54, 108, 111]),\n",
       " (158, [102, 100, 54, 108, 111]),\n",
       " (158, [117, 101, 106, 108, 111]),\n",
       " (158, [120, 101, 106, 108, 111]),\n",
       " (158, [122, 101, 106, 108, 111]),\n",
       " (158, [125, 101, 106, 108, 111]),\n",
       " (158, [119, 60, 108, 108, 111]),\n",
       " (158, [101, 98, 108, 108, 111]),\n",
       " (158, [108, 98, 108, 108, 111]),\n",
       " (158, [124, 98, 108, 108, 111]),\n",
       " (158, [117, 99, 108, 108, 111]),\n",
       " (158, [120, 99, 108, 108, 111]),\n",
       " (158, [122, 99, 108, 108, 111]),\n",
       " (158, [125, 99, 108, 108, 111]),\n",
       " (158, [107, 102, 108, 108, 111]),\n",
       " (158, [109, 102, 108, 108, 111]),\n",
       " (158, [127, 102, 108, 108, 111]),\n",
       " (158, [117, 101, 109, 108, 111]),\n",
       " (158, [120, 101, 109, 108, 111]),\n",
       " (158, [122, 101, 109, 108, 111]),\n",
       " (158, [125, 101, 109, 108, 111]),\n",
       " (158, [104, 100, 111, 108, 111]),\n",
       " (158, [107, 101, 111, 108, 111]),\n",
       " (158, [109, 101, 111, 108, 111]),\n",
       " (158, [127, 101, 111, 108, 111]),\n",
       " (158, [102, 101, 52, 109, 111]),\n",
       " (158, [104, 99, 52, 111, 111]),\n",
       " (158, [110, 101, 52, 111, 111]),\n",
       " (158, [104, 102, 53, 111, 111]),\n",
       " (158, [102, 101, 54, 111, 111]),\n",
       " (158, [104, 102, 108, 111, 111]),\n",
       " (158, [104, 101, 111, 111, 111]),\n",
       " (157, [104, 56, 53, 108, 104]),\n",
       " (157, [105, 60, 53, 108, 104]),\n",
       " (157, [106, 60, 53, 108, 104]),\n",
       " (157, [111, 60, 53, 108, 104]),\n",
       " (157, [118, 101, 54, 108, 104]),\n",
       " (157, [104, 56, 108, 108, 104]),\n",
       " (157, [105, 60, 108, 108, 104]),\n",
       " (157, [106, 60, 108, 108, 104]),\n",
       " (157, [111, 60, 108, 108, 104]),\n",
       " (157, [104, 101, 54, 109, 104]),\n",
       " (157, [104, 60, 53, 106, 108]),\n",
       " (157, [104, 60, 108, 106, 108]),\n",
       " (157, [104, 60, 53, 107, 108]),\n",
       " (157, [104, 60, 108, 107, 108]),\n",
       " (157, [104, 99, 50, 108, 108]),\n",
       " (157, [110, 101, 50, 108, 108]),\n",
       " (157, [110, 60, 52, 108, 108]),\n",
       " (157, [102, 98, 52, 108, 108]),\n",
       " (157, [102, 99, 53, 108, 108]),\n",
       " (157, [112, 101, 53, 108, 108]),\n",
       " (157, [102, 60, 54, 108, 108]),\n",
       " (157, [119, 101, 54, 108, 108]),\n",
       " (157, [102, 101, 106, 108, 108]),\n",
       " (157, [102, 99, 108, 108, 108]),\n",
       " (157, [112, 101, 108, 108, 108]),\n",
       " (157, [102, 101, 109, 108, 108]),\n",
       " (157, [104, 60, 111, 108, 108]),\n",
       " (157, [102, 101, 50, 108, 110]),\n",
       " (157, [102, 60, 52, 108, 110]),\n",
       " (157, [119, 101, 52, 108, 110]),\n",
       " (157, [101, 101, 54, 108, 110]),\n",
       " (157, [108, 101, 54, 108, 110]),\n",
       " (157, [124, 101, 54, 108, 110]),\n",
       " (157, [104, 100, 52, 106, 111]),\n",
       " (157, [107, 101, 52, 106, 111]),\n",
       " (157, [109, 101, 52, 106, 111]),\n",
       " (157, [127, 101, 52, 106, 111]),\n",
       " (157, [117, 101, 53, 106, 111]),\n",
       " (157, [120, 101, 53, 106, 111]),\n",
       " (157, [122, 101, 53, 106, 111]),\n",
       " (157, [125, 101, 53, 106, 111]),\n",
       " (157, [104, 98, 54, 106, 111]),\n",
       " (157, [105, 101, 54, 106, 111]),\n",
       " (157, [106, 101, 54, 106, 111]),\n",
       " (157, [111, 101, 54, 106, 111]),\n",
       " (157, [117, 101, 108, 106, 111]),\n",
       " (157, [120, 101, 108, 106, 111]),\n",
       " (157, [122, 101, 108, 106, 111]),\n",
       " (157, [125, 101, 108, 106, 111]),\n",
       " (157, [104, 100, 52, 107, 111]),\n",
       " (157, [107, 101, 52, 107, 111]),\n",
       " (157, [109, 101, 52, 107, 111]),\n",
       " (157, [127, 101, 52, 107, 111]),\n",
       " (157, [117, 101, 53, 107, 111]),\n",
       " (157, [120, 101, 53, 107, 111]),\n",
       " (157, [122, 101, 53, 107, 111]),\n",
       " (157, [125, 101, 53, 107, 111]),\n",
       " (157, [104, 98, 54, 107, 111]),\n",
       " (157, [105, 101, 54, 107, 111]),\n",
       " (157, [106, 101, 54, 107, 111]),\n",
       " (157, [111, 101, 54, 107, 111]),\n",
       " (157, [117, 101, 108, 107, 111]),\n",
       " (157, [120, 101, 108, 107, 111]),\n",
       " (157, [122, 101, 108, 107, 111]),\n",
       " (157, [125, 101, 108, 107, 111]),\n",
       " (157, [102, 60, 50, 108, 111]),\n",
       " (157, [119, 101, 50, 108, 111]),\n",
       " (157, [119, 60, 52, 108, 111]),\n",
       " (157, [101, 98, 52, 108, 111]),\n",
       " (157, [108, 98, 52, 108, 111]),\n",
       " (157, [124, 98, 52, 108, 111]),\n",
       " (157, [117, 99, 52, 108, 111]),\n",
       " (157, [120, 99, 52, 108, 111]),\n",
       " (157, [122, 99, 52, 108, 111]),\n",
       " (157, [125, 99, 52, 108, 111]),\n",
       " (157, [107, 102, 52, 108, 111]),\n",
       " (157, [109, 102, 52, 108, 111]),\n",
       " (157, [127, 102, 52, 108, 111]),\n",
       " (157, [118, 98, 53, 108, 111]),\n",
       " (157, [101, 99, 53, 108, 111]),\n",
       " (157, [108, 99, 53, 108, 111]),\n",
       " (157, [124, 99, 53, 108, 111]),\n",
       " (157, [107, 100, 53, 108, 111]),\n",
       " (157, [109, 100, 53, 108, 111]),\n",
       " (157, [127, 100, 53, 108, 111]),\n",
       " (157, [117, 102, 53, 108, 111]),\n",
       " (157, [120, 102, 53, 108, 111]),\n",
       " (157, [122, 102, 53, 108, 111]),\n",
       " (157, [125, 102, 53, 108, 111]),\n",
       " (157, [101, 60, 54, 108, 111]),\n",
       " (157, [108, 60, 54, 108, 111]),\n",
       " (157, [124, 60, 54, 108, 111]),\n",
       " (157, [110, 99, 54, 108, 111]),\n",
       " (157, [105, 102, 54, 108, 111]),\n",
       " (157, [106, 102, 54, 108, 111]),\n",
       " (157, [111, 102, 54, 108, 111]),\n",
       " (157, [101, 101, 106, 108, 111]),\n",
       " (157, [108, 101, 106, 108, 111]),\n",
       " (157, [124, 101, 106, 108, 111]),\n",
       " (157, [118, 98, 108, 108, 111]),\n",
       " (157, [101, 99, 108, 108, 111]),\n",
       " (157, [108, 99, 108, 108, 111]),\n",
       " (157, [124, 99, 108, 108, 111]),\n",
       " (157, [107, 100, 108, 108, 111]),\n",
       " (157, [109, 100, 108, 108, 111]),\n",
       " (157, [127, 100, 108, 108, 111]),\n",
       " (157, [117, 102, 108, 108, 111]),\n",
       " (157, [120, 102, 108, 108, 111]),\n",
       " (157, [122, 102, 108, 108, 111]),\n",
       " (157, [125, 102, 108, 108, 111]),\n",
       " (157, [101, 101, 109, 108, 111]),\n",
       " (157, [108, 101, 109, 108, 111]),\n",
       " (157, [124, 101, 109, 108, 111]),\n",
       " (157, [117, 101, 111, 108, 111]),\n",
       " (157, [120, 101, 111, 108, 111]),\n",
       " (157, [122, 101, 111, 108, 111]),\n",
       " (157, [125, 101, 111, 108, 111]),\n",
       " (157, [104, 98, 53, 109, 111]),\n",
       " (157, [105, 101, 53, 109, 111]),\n",
       " (157, [106, 101, 53, 109, 111]),\n",
       " (157, [111, 101, 53, 109, 111]),\n",
       " (157, [104, 98, 108, 109, 111]),\n",
       " (157, [105, 101, 108, 109, 111]),\n",
       " (157, [106, 101, 108, 109, 111]),\n",
       " (157, [111, 101, 108, 109, 111]),\n",
       " (157, [104, 102, 52, 111, 111]),\n",
       " (157, [104, 100, 53, 111, 111]),\n",
       " (157, [107, 101, 53, 111, 111]),\n",
       " (157, [109, 101, 53, 111, 111]),\n",
       " (157, [127, 101, 53, 111, 111]),\n",
       " ...]"
      ]
     },
     "execution_count": 79,
     "metadata": {},
     "output_type": "execute_result"
    }
   ],
   "source": [
    "results"
   ]
  },
  {
   "cell_type": "code",
   "execution_count": 72,
   "metadata": {
    "ExecuteTime": {
     "end_time": "2021-03-08T15:14:19.464531Z",
     "start_time": "2021-03-08T15:14:19.456530Z"
    }
   },
   "outputs": [
    {
     "data": {
      "text/plain": [
       "295"
      ]
     },
     "execution_count": 72,
     "metadata": {},
     "output_type": "execute_result"
    }
   ],
   "source": [
    "len(plaintext)"
   ]
  },
  {
   "cell_type": "code",
   "execution_count": 73,
   "metadata": {
    "ExecuteTime": {
     "end_time": "2021-03-08T15:14:19.620527Z",
     "start_time": "2021-03-08T15:14:19.606515Z"
    }
   },
   "outputs": [
    {
     "data": {
      "text/plain": [
       "249"
      ]
     },
     "execution_count": 73,
     "metadata": {},
     "output_type": "execute_result"
    }
   ],
   "source": [
    "895-646"
   ]
  },
  {
   "cell_type": "code",
   "execution_count": 74,
   "metadata": {
    "ExecuteTime": {
     "end_time": "2021-03-08T15:14:19.809069Z",
     "start_time": "2021-03-08T15:14:19.791076Z"
    }
   },
   "outputs": [
    {
     "data": {
      "text/plain": [
       "397"
      ]
     },
     "execution_count": 74,
     "metadata": {},
     "output_type": "execute_result"
    }
   ],
   "source": [
    "646-249"
   ]
  },
  {
   "cell_type": "code",
   "execution_count": 75,
   "metadata": {
    "ExecuteTime": {
     "end_time": "2021-03-08T15:14:19.996189Z",
     "start_time": "2021-03-08T15:14:19.973191Z"
    }
   },
   "outputs": [
    {
     "name": "stdout",
     "output_type": "stream",
     "text": [
      "30 he5lo 189 '. w : 1`2.16a.1.1S\\nTun7el a=apte+ Ter<do T,nnel0ng P*eudotInte+facec\\n\\n  yConn<ctio7-spe:ificyDNS \\nuf'\n",
      "102 hello 189 '. . : 192.168.1.1\\n\\nTunnel adapter Teredo Tunneling Pseudo-Interface:\\n\\n   Connection-specific DNS Suf'\n",
      "24 he4lo 188 '. v : 1a2.16`.1.1R\\nTun6el a<apte* Ter=do T-nnel1ng P+eudouInte*faceb\\n\\n  xConn=ctio6-spe;ificxDNS \\x0buf'\n",
      "30 he6lo 185 '. t : 1c2.16b.1.1P\\nTun4el a>apte( Ter?do T/nnel3ng P)eudowInte(face`\\n\\n  zConn?ctio4-spe9ificzDNS \\tuf'\n",
      "6 he5ll 182 '. w 9 1`2-16a.2.1S\\nWun7eo a=aste+ Wer<dl T,nmel0nd P*evdotImte+fbcec\\n\\t  yClnn<cwio7-ppe:ieicyDMS \\nue'\n",
      "13 helll 182 '. . 9 192-168.2.1\\n\\nWunneo adaster Weredl Tunmelind Psevdo-Imterfbce:\\n\\t   Clnnecwion-ppecieic DMS Sue'\n",
      "0 he4ll 181 '. v 9 1a2-16`.2.1R\\nWun6eo a<aste* Wer=dl T-nmel1nd P+evdouImte*fbceb\\n\\t  xClnn=cwio6-ppe;ieicxDMS \\x0bue'\n",
      "9 he5lh 180 '. w = 1`2)16a.6.1S\\nSun7ek a=awte+ Ser<dh T,niel0n` P*erdotIite+ffcec\\n\\r  yChnn<csio7-tpe:iaicyDIS \\nua'\n",
      "22 hellh 180 '. . = 192)168.6.1\\n\\nSunnek adawter Seredh Tunielin` Pserdo-Iiterffce:\\n\\r   Chnnecsion-tpeciaic DIS Sua'\n",
      "3 he4lh 179 '. v = 1a2)16`.6.1R\\nSun6ek a<awte* Ser=dh T-niel1n` P+erdouIite*ffceb\\n\\r  xChnn=csio6-tpe;iaicxDIS \\x0bua'\n"
     ]
    }
   ],
   "source": [
    "test_str = encoded\n",
    "# results = [0] * len(keys)\n",
    "for i, (x, key) in enumerate(results[:10]):\n",
    "    decoded = xor(test_str, key).decode('ascii')\n",
    "    score = sum(map(len, trie.findall(decoded)))\n",
    "    print(score, bytes(key).decode('latin1'), x, repr(decoded[:100]))\n",
    "#     results[i] = score\n",
    "#     if (i + 1) % 100000 == 0:\n",
    "#         score, key = sorted(zip(results, keys), reverse=True)[0]\n",
    "#         print(f'[{i + 1}/{len(keys)}] best key so far: {bytes(key).decode(\"latin1\")} ({score}/{len(test_str)})')"
   ]
  },
  {
   "cell_type": "code",
   "execution_count": 76,
   "metadata": {
    "ExecuteTime": {
     "end_time": "2021-03-08T15:14:47.796295Z",
     "start_time": "2021-03-08T15:14:47.776289Z"
    }
   },
   "outputs": [
    {
     "data": {
      "text/plain": [
       "102"
      ]
     },
     "execution_count": 76,
     "metadata": {},
     "output_type": "execute_result"
    }
   ],
   "source": [
    "sum(map(len, trie.findall(plaintext)))"
   ]
  },
  {
   "cell_type": "code",
   "execution_count": 77,
   "metadata": {
    "ExecuteTime": {
     "end_time": "2021-03-08T15:15:02.012339Z",
     "start_time": "2021-03-08T15:15:02.003327Z"
    }
   },
   "outputs": [
    {
     "data": {
      "text/plain": [
       "295"
      ]
     },
     "execution_count": 77,
     "metadata": {},
     "output_type": "execute_result"
    }
   ],
   "source": [
    "len(plaintext)"
   ]
  },
  {
   "cell_type": "code",
   "execution_count": 58,
   "metadata": {
    "ExecuteTime": {
     "end_time": "2021-03-08T16:45:20.985165Z",
     "start_time": "2021-03-08T16:45:20.980200Z"
    }
   },
   "outputs": [],
   "source": [
    "plaintext = 'Tax prep volunteering - a window into society  (Read 6065 times)'"
   ]
  },
  {
   "cell_type": "code",
   "execution_count": 59,
   "metadata": {
    "ExecuteTime": {
     "end_time": "2021-03-08T16:45:21.407940Z",
     "start_time": "2021-03-08T16:45:21.399939Z"
    }
   },
   "outputs": [],
   "source": [
    "encoded = xor(plaintext, 'test')"
   ]
  },
  {
   "cell_type": "code",
   "execution_count": 60,
   "metadata": {
    "ExecuteTime": {
     "end_time": "2021-03-08T16:45:22.281436Z",
     "start_time": "2021-03-08T16:45:21.809441Z"
    }
   },
   "outputs": [
    {
     "data": {
      "text/plain": [
       "3646500"
      ]
     },
     "execution_count": 60,
     "metadata": {},
     "output_type": "execute_result"
    }
   ],
   "source": [
    "len(xor_detect(encoded, 4))"
   ]
  },
  {
   "cell_type": "code",
   "execution_count": 61,
   "metadata": {
    "ExecuteTime": {
     "end_time": "2021-03-08T16:45:24.130144Z",
     "start_time": "2021-03-08T16:45:23.073137Z"
    }
   },
   "outputs": [
    {
     "data": {
      "text/plain": [
       "63"
      ]
     },
     "execution_count": 61,
     "metadata": {},
     "output_type": "execute_result"
    }
   ],
   "source": [
    "tmp = {bytes(key).decode('latin1'): score for score, key in results}\n",
    "tmp['test']"
   ]
  },
  {
   "cell_type": "code",
   "execution_count": 91,
   "metadata": {
    "ExecuteTime": {
     "end_time": "2021-03-08T15:21:45.299270Z",
     "start_time": "2021-03-08T15:21:45.278270Z"
    }
   },
   "outputs": [
    {
     "data": {
      "text/plain": [
       "[(63, [116, 101, 115, 116]),\n",
       " (62, [116, 103, 115, 116]),\n",
       " (61, [116, 97, 115, 116]),\n",
       " (61, [116, 99, 115, 116]),\n",
       " (61, [116, 100, 115, 116]),\n",
       " (61, [116, 102, 115, 116]),\n",
       " (61, [116, 104, 115, 116]),\n",
       " (61, [116, 120, 115, 116]),\n",
       " (61, [116, 121, 115, 116]),\n",
       " (61, [116, 122, 115, 116])]"
      ]
     },
     "execution_count": 91,
     "metadata": {},
     "output_type": "execute_result"
    }
   ],
   "source": [
    "results[:10]"
   ]
  },
  {
   "cell_type": "code",
   "execution_count": 71,
   "metadata": {
    "ExecuteTime": {
     "end_time": "2021-03-08T16:47:05.838416Z",
     "start_time": "2021-03-08T16:47:05.824425Z"
    }
   },
   "outputs": [],
   "source": [
    "def xor_detect_3(text, key_length, weighted_charset=weighted_chars):\n",
    "    out = [dict.fromkeys(range(256), 0) for _ in range(key_length)]\n",
    "    for i, char_1 in enumerate(text):\n",
    "        new = {}\n",
    "        for char, score in out[i % key_length].items():\n",
    "            if char_1 ^ char in weighted_charset:\n",
    "                new[char] = score + weighted_charset[char_1 ^ char]\n",
    "        out[i % key_length] = new\n",
    "        \n",
    "    possible = [(0, None)]\n",
    "    new = []\n",
    "    for idx_key in out:\n",
    "        print('!')\n",
    "        for key, score in idx_key.items():\n",
    "            for e_score, e_key in possible:\n",
    "                new.append((e_score + score, (e_key, key)))\n",
    "        possible.clear()\n",
    "        possible, new = new, possible\n",
    "        print('!!')\n",
    "    return sorted(possible, reverse=True, key=lambda x: x[0])\n"
   ]
  },
  {
   "cell_type": "code",
   "execution_count": 73,
   "metadata": {
    "ExecuteTime": {
     "end_time": "2021-03-08T16:47:21.603324Z",
     "start_time": "2021-03-08T16:47:17.256303Z"
    }
   },
   "outputs": [
    {
     "name": "stdout",
     "output_type": "stream",
     "text": [
      "!\n",
      "!!\n",
      "!\n",
      "!!\n",
      "!\n",
      "!!\n",
      "!\n",
      "!!\n"
     ]
    },
    {
     "data": {
      "text/plain": [
       "3646500"
      ]
     },
     "execution_count": 73,
     "metadata": {},
     "output_type": "execute_result"
    }
   ],
   "source": [
    "results = xor_detect_3(encoded, 4)\n",
    "len(results)"
   ]
  },
  {
   "cell_type": "code",
   "execution_count": 63,
   "metadata": {
    "ExecuteTime": {
     "end_time": "2021-03-08T16:45:35.366334Z",
     "start_time": "2021-03-08T16:45:35.353333Z"
    }
   },
   "outputs": [],
   "source": [
    "def xor_detect_4(text, key_length, weighted_charset=weighted_chars):\n",
    "    out = [dict.fromkeys(range(256), 0) for _ in range(key_length)]\n",
    "    for i, char_1 in enumerate(text):\n",
    "        new = {}\n",
    "        for char, score in out[i % key_length].items():\n",
    "            if char_1 ^ char in weighted_charset:\n",
    "                new[char] = score + weighted_charset[char_1 ^ char]\n",
    "        out[i % key_length] = new\n",
    "        \n",
    "    possible = [(0, ())]\n",
    "    for idx_key in out:\n",
    "        print('!')\n",
    "        new = []\n",
    "        for key, score in idx_key.items():\n",
    "            for e_score, e_key in possible:\n",
    "                new.append((e_score + score, (*e_key, key)))\n",
    "        possible.clear()\n",
    "        possible = new\n",
    "        print('!!')\n",
    "    return sorted(possible, reverse=True, key=lambda x: x[0])\n"
   ]
  },
  {
   "cell_type": "code",
   "execution_count": 67,
   "metadata": {
    "ExecuteTime": {
     "end_time": "2021-03-08T16:46:04.312330Z",
     "start_time": "2021-03-08T16:46:00.115327Z"
    }
   },
   "outputs": [
    {
     "name": "stdout",
     "output_type": "stream",
     "text": [
      "!\n",
      "!!\n",
      "!\n",
      "!!\n",
      "!\n",
      "!!\n",
      "!\n",
      "!!\n"
     ]
    },
    {
     "data": {
      "text/plain": [
       "3646500"
      ]
     },
     "execution_count": 67,
     "metadata": {},
     "output_type": "execute_result"
    }
   ],
   "source": [
    "results = xor_detect_4(encoded, 4)\n",
    "len(results)"
   ]
  },
  {
   "cell_type": "code",
   "execution_count": 57,
   "metadata": {
    "ExecuteTime": {
     "end_time": "2021-03-08T16:45:00.128201Z",
     "start_time": "2021-03-08T16:45:00.108231Z"
    }
   },
   "outputs": [
    {
     "data": {
      "text/plain": [
       "[(63, (116, 101, 115, 116)),\n",
       " (62, (116, 103, 115, 116)),\n",
       " (61, (116, 97, 115, 116)),\n",
       " (61, (116, 99, 115, 116)),\n",
       " (61, (116, 100, 115, 116))]"
      ]
     },
     "execution_count": 57,
     "metadata": {},
     "output_type": "execute_result"
    }
   ],
   "source": [
    "results[:5]"
   ]
  },
  {
   "cell_type": "code",
   "execution_count": null,
   "metadata": {},
   "outputs": [],
   "source": []
  }
 ],
 "metadata": {
  "kernelspec": {
   "display_name": "Python 3",
   "language": "python",
   "name": "python3"
  },
  "toc": {
   "base_numbering": 1,
   "nav_menu": {},
   "number_sections": true,
   "sideBar": true,
   "skip_h1_title": false,
   "title_cell": "Table of Contents",
   "title_sidebar": "Contents",
   "toc_cell": false,
   "toc_position": {},
   "toc_section_display": true,
   "toc_window_display": false
  }
 },
 "nbformat": 4,
 "nbformat_minor": 4
}
